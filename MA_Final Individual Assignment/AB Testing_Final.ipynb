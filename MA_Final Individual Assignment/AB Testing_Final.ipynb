{
 "cells": [
  {
   "cell_type": "code",
   "execution_count": 1,
   "id": "ed5045f9",
   "metadata": {},
   "outputs": [],
   "source": [
    "import matplotlib.pyplot as plt\n",
    "import pandas as pd\n",
    "import numpy as np\n",
    "import scipy.stats as stats\n",
    "import math\n",
    "pd.options.display.max_columns = None"
   ]
  },
  {
   "cell_type": "code",
   "execution_count": 2,
   "id": "aee6ee4f",
   "metadata": {},
   "outputs": [],
   "source": [
    "df_sub = pd.read_pickle('/Users/reesezhuang/Desktop/NYU Stern/Final individual/subscribers')"
   ]
  },
  {
   "cell_type": "code",
   "execution_count": 3,
   "id": "0bee902c",
   "metadata": {},
   "outputs": [
    {
     "data": {
      "text/html": [
       "<div>\n",
       "<style scoped>\n",
       "    .dataframe tbody tr th:only-of-type {\n",
       "        vertical-align: middle;\n",
       "    }\n",
       "\n",
       "    .dataframe tbody tr th {\n",
       "        vertical-align: top;\n",
       "    }\n",
       "\n",
       "    .dataframe thead th {\n",
       "        text-align: right;\n",
       "    }\n",
       "</style>\n",
       "<table border=\"1\" class=\"dataframe\">\n",
       "  <thead>\n",
       "    <tr style=\"text-align: right;\">\n",
       "      <th></th>\n",
       "      <th>subid</th>\n",
       "      <th>package_type</th>\n",
       "      <th>num_weekly_services_utilized</th>\n",
       "      <th>preferred_genre</th>\n",
       "      <th>intended_use</th>\n",
       "      <th>weekly_consumption_hour</th>\n",
       "      <th>num_ideal_streaming_services</th>\n",
       "      <th>retarget_TF</th>\n",
       "      <th>age</th>\n",
       "      <th>male_TF</th>\n",
       "      <th>country</th>\n",
       "      <th>attribution_technical</th>\n",
       "      <th>attribution_survey</th>\n",
       "      <th>op_sys</th>\n",
       "      <th>months_per_bill_period</th>\n",
       "      <th>plan_type</th>\n",
       "      <th>monthly_price</th>\n",
       "      <th>discount_price</th>\n",
       "      <th>account_creation_date</th>\n",
       "      <th>creation_until_cancel_days</th>\n",
       "      <th>cancel_before_trial_end</th>\n",
       "      <th>trial_end_date</th>\n",
       "      <th>initial_credit_card_declined</th>\n",
       "      <th>revenue_net</th>\n",
       "      <th>join_fee</th>\n",
       "      <th>language</th>\n",
       "      <th>paid_TF</th>\n",
       "      <th>refund_after_trial_TF</th>\n",
       "      <th>payment_type</th>\n",
       "    </tr>\n",
       "  </thead>\n",
       "  <tbody>\n",
       "    <tr>\n",
       "      <th>162502</th>\n",
       "      <td>21724479</td>\n",
       "      <td>economy</td>\n",
       "      <td>NaN</td>\n",
       "      <td>comedy</td>\n",
       "      <td>access to exclusive content</td>\n",
       "      <td>NaN</td>\n",
       "      <td>NaN</td>\n",
       "      <td>False</td>\n",
       "      <td>NaN</td>\n",
       "      <td>False</td>\n",
       "      <td>UAE</td>\n",
       "      <td>facebook</td>\n",
       "      <td>facebook</td>\n",
       "      <td>Android</td>\n",
       "      <td>4</td>\n",
       "      <td>base_uae_14_day_trial</td>\n",
       "      <td>4.7343</td>\n",
       "      <td>4.5141</td>\n",
       "      <td>2020-01-24 21:44:16</td>\n",
       "      <td>NaN</td>\n",
       "      <td>True</td>\n",
       "      <td>2020-02-08</td>\n",
       "      <td>False</td>\n",
       "      <td>NaN</td>\n",
       "      <td>NaN</td>\n",
       "      <td>ar</td>\n",
       "      <td>True</td>\n",
       "      <td>False</td>\n",
       "      <td>Standard Charter</td>\n",
       "    </tr>\n",
       "    <tr>\n",
       "      <th>380374</th>\n",
       "      <td>23383224</td>\n",
       "      <td>base</td>\n",
       "      <td>NaN</td>\n",
       "      <td>comedy</td>\n",
       "      <td>access to exclusive content</td>\n",
       "      <td>22.951579</td>\n",
       "      <td>NaN</td>\n",
       "      <td>False</td>\n",
       "      <td>70.0</td>\n",
       "      <td>False</td>\n",
       "      <td>UAE</td>\n",
       "      <td>facebook</td>\n",
       "      <td>facebook</td>\n",
       "      <td>NaN</td>\n",
       "      <td>4</td>\n",
       "      <td>base_uae_14_day_trial</td>\n",
       "      <td>4.7343</td>\n",
       "      <td>4.5141</td>\n",
       "      <td>2020-03-01 15:44:35</td>\n",
       "      <td>0.0</td>\n",
       "      <td>False</td>\n",
       "      <td>2020-03-16</td>\n",
       "      <td>False</td>\n",
       "      <td>0.0000</td>\n",
       "      <td>0.3303</td>\n",
       "      <td>ar</td>\n",
       "      <td>False</td>\n",
       "      <td>False</td>\n",
       "      <td>NaN</td>\n",
       "    </tr>\n",
       "    <tr>\n",
       "      <th>496617</th>\n",
       "      <td>26844789</td>\n",
       "      <td>enhanced</td>\n",
       "      <td>3.362885</td>\n",
       "      <td>regional</td>\n",
       "      <td>replace OTT</td>\n",
       "      <td>36.001186</td>\n",
       "      <td>1.951776</td>\n",
       "      <td>False</td>\n",
       "      <td>25.0</td>\n",
       "      <td>True</td>\n",
       "      <td>UAE</td>\n",
       "      <td>organic</td>\n",
       "      <td>facebook</td>\n",
       "      <td>iOS</td>\n",
       "      <td>4</td>\n",
       "      <td>base_uae_14_day_trial</td>\n",
       "      <td>4.7343</td>\n",
       "      <td>4.5141</td>\n",
       "      <td>2019-12-07 16:37:06</td>\n",
       "      <td>1.0</td>\n",
       "      <td>False</td>\n",
       "      <td>2019-12-22</td>\n",
       "      <td>False</td>\n",
       "      <td>0.0000</td>\n",
       "      <td>0.1101</td>\n",
       "      <td>ar</td>\n",
       "      <td>False</td>\n",
       "      <td>False</td>\n",
       "      <td>NaN</td>\n",
       "    </tr>\n",
       "    <tr>\n",
       "      <th>356799</th>\n",
       "      <td>29417030</td>\n",
       "      <td>base</td>\n",
       "      <td>NaN</td>\n",
       "      <td>drama</td>\n",
       "      <td>replace OTT</td>\n",
       "      <td>20.051667</td>\n",
       "      <td>NaN</td>\n",
       "      <td>False</td>\n",
       "      <td>30.0</td>\n",
       "      <td>False</td>\n",
       "      <td>UAE</td>\n",
       "      <td>search</td>\n",
       "      <td>tv</td>\n",
       "      <td>Android</td>\n",
       "      <td>4</td>\n",
       "      <td>base_uae_14_day_trial</td>\n",
       "      <td>4.7343</td>\n",
       "      <td>4.5141</td>\n",
       "      <td>2020-01-27 16:09:32</td>\n",
       "      <td>0.0</td>\n",
       "      <td>False</td>\n",
       "      <td>2020-02-11</td>\n",
       "      <td>False</td>\n",
       "      <td>0.0000</td>\n",
       "      <td>0.0367</td>\n",
       "      <td>ar</td>\n",
       "      <td>False</td>\n",
       "      <td>False</td>\n",
       "      <td>NaN</td>\n",
       "    </tr>\n",
       "    <tr>\n",
       "      <th>681701</th>\n",
       "      <td>26723159</td>\n",
       "      <td>base</td>\n",
       "      <td>3.731089</td>\n",
       "      <td>comedy</td>\n",
       "      <td>replace OTT</td>\n",
       "      <td>22.951579</td>\n",
       "      <td>2.506384</td>\n",
       "      <td>False</td>\n",
       "      <td>28.0</td>\n",
       "      <td>False</td>\n",
       "      <td>UAE</td>\n",
       "      <td>discovery</td>\n",
       "      <td>youtube</td>\n",
       "      <td>iOS</td>\n",
       "      <td>4</td>\n",
       "      <td>base_uae_14_day_trial</td>\n",
       "      <td>4.7343</td>\n",
       "      <td>4.5141</td>\n",
       "      <td>2019-10-05 12:57:07</td>\n",
       "      <td>9.0</td>\n",
       "      <td>False</td>\n",
       "      <td>2019-10-20</td>\n",
       "      <td>False</td>\n",
       "      <td>0.0000</td>\n",
       "      <td>0.0367</td>\n",
       "      <td>ar</td>\n",
       "      <td>False</td>\n",
       "      <td>False</td>\n",
       "      <td>NaN</td>\n",
       "    </tr>\n",
       "    <tr>\n",
       "      <th>...</th>\n",
       "      <td>...</td>\n",
       "      <td>...</td>\n",
       "      <td>...</td>\n",
       "      <td>...</td>\n",
       "      <td>...</td>\n",
       "      <td>...</td>\n",
       "      <td>...</td>\n",
       "      <td>...</td>\n",
       "      <td>...</td>\n",
       "      <td>...</td>\n",
       "      <td>...</td>\n",
       "      <td>...</td>\n",
       "      <td>...</td>\n",
       "      <td>...</td>\n",
       "      <td>...</td>\n",
       "      <td>...</td>\n",
       "      <td>...</td>\n",
       "      <td>...</td>\n",
       "      <td>...</td>\n",
       "      <td>...</td>\n",
       "      <td>...</td>\n",
       "      <td>...</td>\n",
       "      <td>...</td>\n",
       "      <td>...</td>\n",
       "      <td>...</td>\n",
       "      <td>...</td>\n",
       "      <td>...</td>\n",
       "      <td>...</td>\n",
       "      <td>...</td>\n",
       "    </tr>\n",
       "    <tr>\n",
       "      <th>509326</th>\n",
       "      <td>21434712</td>\n",
       "      <td>enhanced</td>\n",
       "      <td>2.594078</td>\n",
       "      <td>comedy</td>\n",
       "      <td>supplement OTT</td>\n",
       "      <td>28.751405</td>\n",
       "      <td>1.905485</td>\n",
       "      <td>False</td>\n",
       "      <td>38.0</td>\n",
       "      <td>False</td>\n",
       "      <td>UAE</td>\n",
       "      <td>facebook</td>\n",
       "      <td>facebook_organic</td>\n",
       "      <td>iOS</td>\n",
       "      <td>4</td>\n",
       "      <td>base_uae_14_day_trial</td>\n",
       "      <td>4.7343</td>\n",
       "      <td>4.5141</td>\n",
       "      <td>2019-11-17 14:12:33</td>\n",
       "      <td>8.0</td>\n",
       "      <td>False</td>\n",
       "      <td>2019-12-02</td>\n",
       "      <td>False</td>\n",
       "      <td>0.0000</td>\n",
       "      <td>0.3303</td>\n",
       "      <td>ar</td>\n",
       "      <td>False</td>\n",
       "      <td>False</td>\n",
       "      <td>NaN</td>\n",
       "    </tr>\n",
       "    <tr>\n",
       "      <th>229587</th>\n",
       "      <td>25843074</td>\n",
       "      <td>enhanced</td>\n",
       "      <td>2.361370</td>\n",
       "      <td>comedy</td>\n",
       "      <td>replace OTT</td>\n",
       "      <td>27.301448</td>\n",
       "      <td>1.835189</td>\n",
       "      <td>True</td>\n",
       "      <td>49.0</td>\n",
       "      <td>False</td>\n",
       "      <td>UAE</td>\n",
       "      <td>google_organic</td>\n",
       "      <td>referral</td>\n",
       "      <td>iOS</td>\n",
       "      <td>4</td>\n",
       "      <td>base_uae_14_day_trial</td>\n",
       "      <td>4.7343</td>\n",
       "      <td>4.5141</td>\n",
       "      <td>2019-12-06 18:02:13</td>\n",
       "      <td>NaN</td>\n",
       "      <td>True</td>\n",
       "      <td>2019-12-21</td>\n",
       "      <td>False</td>\n",
       "      <td>4.5875</td>\n",
       "      <td>0.3303</td>\n",
       "      <td>ar</td>\n",
       "      <td>True</td>\n",
       "      <td>False</td>\n",
       "      <td>Paypal</td>\n",
       "    </tr>\n",
       "    <tr>\n",
       "      <th>281340</th>\n",
       "      <td>24799085</td>\n",
       "      <td>base</td>\n",
       "      <td>NaN</td>\n",
       "      <td>comedy</td>\n",
       "      <td>access to exclusive content</td>\n",
       "      <td>31.651317</td>\n",
       "      <td>NaN</td>\n",
       "      <td>False</td>\n",
       "      <td>45.0</td>\n",
       "      <td>False</td>\n",
       "      <td>UAE</td>\n",
       "      <td>facebook</td>\n",
       "      <td>facebook</td>\n",
       "      <td>iOS</td>\n",
       "      <td>4</td>\n",
       "      <td>base_uae_14_day_trial</td>\n",
       "      <td>4.7343</td>\n",
       "      <td>4.5141</td>\n",
       "      <td>2019-12-21 19:40:44</td>\n",
       "      <td>31.0</td>\n",
       "      <td>True</td>\n",
       "      <td>2020-01-05</td>\n",
       "      <td>True</td>\n",
       "      <td>0.0000</td>\n",
       "      <td>0.0367</td>\n",
       "      <td>ar</td>\n",
       "      <td>False</td>\n",
       "      <td>False</td>\n",
       "      <td>NaN</td>\n",
       "    </tr>\n",
       "    <tr>\n",
       "      <th>87198</th>\n",
       "      <td>21308040</td>\n",
       "      <td>base</td>\n",
       "      <td>NaN</td>\n",
       "      <td>comedy</td>\n",
       "      <td>access to exclusive content</td>\n",
       "      <td>NaN</td>\n",
       "      <td>NaN</td>\n",
       "      <td>False</td>\n",
       "      <td>NaN</td>\n",
       "      <td>False</td>\n",
       "      <td>UAE</td>\n",
       "      <td>facebook</td>\n",
       "      <td>facebook</td>\n",
       "      <td>iOS</td>\n",
       "      <td>4</td>\n",
       "      <td>base_uae_14_day_trial</td>\n",
       "      <td>4.7343</td>\n",
       "      <td>4.5141</td>\n",
       "      <td>2020-01-17 23:58:51</td>\n",
       "      <td>NaN</td>\n",
       "      <td>True</td>\n",
       "      <td>2020-02-01</td>\n",
       "      <td>False</td>\n",
       "      <td>NaN</td>\n",
       "      <td>NaN</td>\n",
       "      <td>ar</td>\n",
       "      <td>True</td>\n",
       "      <td>False</td>\n",
       "      <td>Paypal</td>\n",
       "    </tr>\n",
       "    <tr>\n",
       "      <th>598241</th>\n",
       "      <td>20166335</td>\n",
       "      <td>base</td>\n",
       "      <td>NaN</td>\n",
       "      <td>comedy</td>\n",
       "      <td>replace OTT</td>\n",
       "      <td>25.851492</td>\n",
       "      <td>NaN</td>\n",
       "      <td>False</td>\n",
       "      <td>55.0</td>\n",
       "      <td>False</td>\n",
       "      <td>UAE</td>\n",
       "      <td>organic</td>\n",
       "      <td>tv</td>\n",
       "      <td>iOS</td>\n",
       "      <td>4</td>\n",
       "      <td>base_uae_14_day_trial</td>\n",
       "      <td>4.7343</td>\n",
       "      <td>4.5141</td>\n",
       "      <td>2019-11-26 19:09:09</td>\n",
       "      <td>4.0</td>\n",
       "      <td>False</td>\n",
       "      <td>2019-12-11</td>\n",
       "      <td>False</td>\n",
       "      <td>0.0000</td>\n",
       "      <td>0.0367</td>\n",
       "      <td>ar</td>\n",
       "      <td>False</td>\n",
       "      <td>False</td>\n",
       "      <td>NaN</td>\n",
       "    </tr>\n",
       "  </tbody>\n",
       "</table>\n",
       "<p>227628 rows × 29 columns</p>\n",
       "</div>"
      ],
      "text/plain": [
       "           subid package_type  num_weekly_services_utilized preferred_genre  \\\n",
       "162502  21724479      economy                           NaN          comedy   \n",
       "380374  23383224         base                           NaN          comedy   \n",
       "496617  26844789     enhanced                      3.362885        regional   \n",
       "356799  29417030         base                           NaN           drama   \n",
       "681701  26723159         base                      3.731089          comedy   \n",
       "...          ...          ...                           ...             ...   \n",
       "509326  21434712     enhanced                      2.594078          comedy   \n",
       "229587  25843074     enhanced                      2.361370          comedy   \n",
       "281340  24799085         base                           NaN          comedy   \n",
       "87198   21308040         base                           NaN          comedy   \n",
       "598241  20166335         base                           NaN          comedy   \n",
       "\n",
       "                       intended_use  weekly_consumption_hour  \\\n",
       "162502  access to exclusive content                      NaN   \n",
       "380374  access to exclusive content                22.951579   \n",
       "496617                  replace OTT                36.001186   \n",
       "356799                  replace OTT                20.051667   \n",
       "681701                  replace OTT                22.951579   \n",
       "...                             ...                      ...   \n",
       "509326               supplement OTT                28.751405   \n",
       "229587                  replace OTT                27.301448   \n",
       "281340  access to exclusive content                31.651317   \n",
       "87198   access to exclusive content                      NaN   \n",
       "598241                  replace OTT                25.851492   \n",
       "\n",
       "        num_ideal_streaming_services  retarget_TF   age male_TF country  \\\n",
       "162502                           NaN        False   NaN   False     UAE   \n",
       "380374                           NaN        False  70.0   False     UAE   \n",
       "496617                      1.951776        False  25.0    True     UAE   \n",
       "356799                           NaN        False  30.0   False     UAE   \n",
       "681701                      2.506384        False  28.0   False     UAE   \n",
       "...                              ...          ...   ...     ...     ...   \n",
       "509326                      1.905485        False  38.0   False     UAE   \n",
       "229587                      1.835189         True  49.0   False     UAE   \n",
       "281340                           NaN        False  45.0   False     UAE   \n",
       "87198                            NaN        False   NaN   False     UAE   \n",
       "598241                           NaN        False  55.0   False     UAE   \n",
       "\n",
       "       attribution_technical attribution_survey   op_sys  \\\n",
       "162502              facebook           facebook  Android   \n",
       "380374              facebook           facebook      NaN   \n",
       "496617               organic           facebook      iOS   \n",
       "356799                search                 tv  Android   \n",
       "681701             discovery            youtube      iOS   \n",
       "...                      ...                ...      ...   \n",
       "509326              facebook   facebook_organic      iOS   \n",
       "229587        google_organic           referral      iOS   \n",
       "281340              facebook           facebook      iOS   \n",
       "87198               facebook           facebook      iOS   \n",
       "598241               organic                 tv      iOS   \n",
       "\n",
       "        months_per_bill_period              plan_type  monthly_price  \\\n",
       "162502                       4  base_uae_14_day_trial         4.7343   \n",
       "380374                       4  base_uae_14_day_trial         4.7343   \n",
       "496617                       4  base_uae_14_day_trial         4.7343   \n",
       "356799                       4  base_uae_14_day_trial         4.7343   \n",
       "681701                       4  base_uae_14_day_trial         4.7343   \n",
       "...                        ...                    ...            ...   \n",
       "509326                       4  base_uae_14_day_trial         4.7343   \n",
       "229587                       4  base_uae_14_day_trial         4.7343   \n",
       "281340                       4  base_uae_14_day_trial         4.7343   \n",
       "87198                        4  base_uae_14_day_trial         4.7343   \n",
       "598241                       4  base_uae_14_day_trial         4.7343   \n",
       "\n",
       "        discount_price account_creation_date  creation_until_cancel_days  \\\n",
       "162502          4.5141   2020-01-24 21:44:16                         NaN   \n",
       "380374          4.5141   2020-03-01 15:44:35                         0.0   \n",
       "496617          4.5141   2019-12-07 16:37:06                         1.0   \n",
       "356799          4.5141   2020-01-27 16:09:32                         0.0   \n",
       "681701          4.5141   2019-10-05 12:57:07                         9.0   \n",
       "...                ...                   ...                         ...   \n",
       "509326          4.5141   2019-11-17 14:12:33                         8.0   \n",
       "229587          4.5141   2019-12-06 18:02:13                         NaN   \n",
       "281340          4.5141   2019-12-21 19:40:44                        31.0   \n",
       "87198           4.5141   2020-01-17 23:58:51                         NaN   \n",
       "598241          4.5141   2019-11-26 19:09:09                         4.0   \n",
       "\n",
       "        cancel_before_trial_end trial_end_date  initial_credit_card_declined  \\\n",
       "162502                     True     2020-02-08                         False   \n",
       "380374                    False     2020-03-16                         False   \n",
       "496617                    False     2019-12-22                         False   \n",
       "356799                    False     2020-02-11                         False   \n",
       "681701                    False     2019-10-20                         False   \n",
       "...                         ...            ...                           ...   \n",
       "509326                    False     2019-12-02                         False   \n",
       "229587                     True     2019-12-21                         False   \n",
       "281340                     True     2020-01-05                          True   \n",
       "87198                      True     2020-02-01                         False   \n",
       "598241                    False     2019-12-11                         False   \n",
       "\n",
       "        revenue_net  join_fee language  paid_TF  refund_after_trial_TF  \\\n",
       "162502          NaN       NaN       ar     True                  False   \n",
       "380374       0.0000    0.3303       ar    False                  False   \n",
       "496617       0.0000    0.1101       ar    False                  False   \n",
       "356799       0.0000    0.0367       ar    False                  False   \n",
       "681701       0.0000    0.0367       ar    False                  False   \n",
       "...             ...       ...      ...      ...                    ...   \n",
       "509326       0.0000    0.3303       ar    False                  False   \n",
       "229587       4.5875    0.3303       ar     True                  False   \n",
       "281340       0.0000    0.0367       ar    False                  False   \n",
       "87198           NaN       NaN       ar     True                  False   \n",
       "598241       0.0000    0.0367       ar    False                  False   \n",
       "\n",
       "            payment_type  \n",
       "162502  Standard Charter  \n",
       "380374               NaN  \n",
       "496617               NaN  \n",
       "356799               NaN  \n",
       "681701               NaN  \n",
       "...                  ...  \n",
       "509326               NaN  \n",
       "229587            Paypal  \n",
       "281340               NaN  \n",
       "87198             Paypal  \n",
       "598241               NaN  \n",
       "\n",
       "[227628 rows x 29 columns]"
      ]
     },
     "execution_count": 3,
     "metadata": {},
     "output_type": "execute_result"
    }
   ],
   "source": [
    "df_sub"
   ]
  },
  {
   "cell_type": "code",
   "execution_count": 4,
   "id": "b33cce6b",
   "metadata": {},
   "outputs": [
    {
     "data": {
      "text/html": [
       "<div>\n",
       "<style scoped>\n",
       "    .dataframe tbody tr th:only-of-type {\n",
       "        vertical-align: middle;\n",
       "    }\n",
       "\n",
       "    .dataframe tbody tr th {\n",
       "        vertical-align: top;\n",
       "    }\n",
       "\n",
       "    .dataframe thead th {\n",
       "        text-align: right;\n",
       "    }\n",
       "</style>\n",
       "<table border=\"1\" class=\"dataframe\">\n",
       "  <thead>\n",
       "    <tr style=\"text-align: right;\">\n",
       "      <th></th>\n",
       "      <th>subid</th>\n",
       "      <th>num_weekly_services_utilized</th>\n",
       "      <th>weekly_consumption_hour</th>\n",
       "      <th>num_ideal_streaming_services</th>\n",
       "      <th>age</th>\n",
       "      <th>months_per_bill_period</th>\n",
       "      <th>monthly_price</th>\n",
       "      <th>discount_price</th>\n",
       "      <th>creation_until_cancel_days</th>\n",
       "      <th>revenue_net</th>\n",
       "      <th>join_fee</th>\n",
       "    </tr>\n",
       "  </thead>\n",
       "  <tbody>\n",
       "    <tr>\n",
       "      <th>count</th>\n",
       "      <td>2.276280e+05</td>\n",
       "      <td>117178.000000</td>\n",
       "      <td>189698.000000</td>\n",
       "      <td>115458.000000</td>\n",
       "      <td>1.924590e+05</td>\n",
       "      <td>227628.0</td>\n",
       "      <td>227628.000000</td>\n",
       "      <td>227628.000000</td>\n",
       "      <td>151768.000000</td>\n",
       "      <td>192724.000000</td>\n",
       "      <td>192724.000000</td>\n",
       "    </tr>\n",
       "    <tr>\n",
       "      <th>mean</th>\n",
       "      <td>2.498624e+07</td>\n",
       "      <td>2.998568</td>\n",
       "      <td>27.997724</td>\n",
       "      <td>1.999848</td>\n",
       "      <td>7.579755e+02</td>\n",
       "      <td>4.0</td>\n",
       "      <td>4.732049</td>\n",
       "      <td>4.512188</td>\n",
       "      <td>16.570832</td>\n",
       "      <td>1.557353</td>\n",
       "      <td>0.115145</td>\n",
       "    </tr>\n",
       "    <tr>\n",
       "      <th>std</th>\n",
       "      <td>2.885543e+06</td>\n",
       "      <td>0.748752</td>\n",
       "      <td>4.976341</td>\n",
       "      <td>0.249508</td>\n",
       "      <td>1.920204e+05</td>\n",
       "      <td>0.0</td>\n",
       "      <td>0.101049</td>\n",
       "      <td>0.097078</td>\n",
       "      <td>35.777986</td>\n",
       "      <td>3.068829</td>\n",
       "      <td>0.176971</td>\n",
       "    </tr>\n",
       "    <tr>\n",
       "      <th>min</th>\n",
       "      <td>2.000001e+07</td>\n",
       "      <td>0.049049</td>\n",
       "      <td>-32.146760</td>\n",
       "      <td>-0.919933</td>\n",
       "      <td>0.000000e+00</td>\n",
       "      <td>4.0</td>\n",
       "      <td>0.807400</td>\n",
       "      <td>0.770700</td>\n",
       "      <td>-108.000000</td>\n",
       "      <td>-5.982100</td>\n",
       "      <td>-0.660600</td>\n",
       "    </tr>\n",
       "    <tr>\n",
       "      <th>25%</th>\n",
       "      <td>2.248998e+07</td>\n",
       "      <td>2.493926</td>\n",
       "      <td>24.401536</td>\n",
       "      <td>1.867354</td>\n",
       "      <td>3.500000e+01</td>\n",
       "      <td>4.0</td>\n",
       "      <td>4.734300</td>\n",
       "      <td>4.514100</td>\n",
       "      <td>2.000000</td>\n",
       "      <td>0.000000</td>\n",
       "      <td>0.036700</td>\n",
       "    </tr>\n",
       "    <tr>\n",
       "      <th>50%</th>\n",
       "      <td>2.497011e+07</td>\n",
       "      <td>2.760506</td>\n",
       "      <td>27.301448</td>\n",
       "      <td>1.908159</td>\n",
       "      <td>4.600000e+01</td>\n",
       "      <td>4.0</td>\n",
       "      <td>4.734300</td>\n",
       "      <td>4.514100</td>\n",
       "      <td>8.000000</td>\n",
       "      <td>0.000000</td>\n",
       "      <td>0.036700</td>\n",
       "    </tr>\n",
       "    <tr>\n",
       "      <th>75%</th>\n",
       "      <td>2.749020e+07</td>\n",
       "      <td>3.271574</td>\n",
       "      <td>30.201361</td>\n",
       "      <td>1.953559</td>\n",
       "      <td>5.700000e+01</td>\n",
       "      <td>4.0</td>\n",
       "      <td>4.734300</td>\n",
       "      <td>4.514100</td>\n",
       "      <td>13.000000</td>\n",
       "      <td>2.532300</td>\n",
       "      <td>0.110100</td>\n",
       "    </tr>\n",
       "    <tr>\n",
       "      <th>max</th>\n",
       "      <td>2.999998e+07</td>\n",
       "      <td>14.335378</td>\n",
       "      <td>76.599962</td>\n",
       "      <td>6.955714</td>\n",
       "      <td>8.172000e+07</td>\n",
       "      <td>4.0</td>\n",
       "      <td>5.101300</td>\n",
       "      <td>5.027900</td>\n",
       "      <td>312.000000</td>\n",
       "      <td>15.634200</td>\n",
       "      <td>0.734000</td>\n",
       "    </tr>\n",
       "  </tbody>\n",
       "</table>\n",
       "</div>"
      ],
      "text/plain": [
       "              subid  num_weekly_services_utilized  weekly_consumption_hour  \\\n",
       "count  2.276280e+05                 117178.000000            189698.000000   \n",
       "mean   2.498624e+07                      2.998568                27.997724   \n",
       "std    2.885543e+06                      0.748752                 4.976341   \n",
       "min    2.000001e+07                      0.049049               -32.146760   \n",
       "25%    2.248998e+07                      2.493926                24.401536   \n",
       "50%    2.497011e+07                      2.760506                27.301448   \n",
       "75%    2.749020e+07                      3.271574                30.201361   \n",
       "max    2.999998e+07                     14.335378                76.599962   \n",
       "\n",
       "       num_ideal_streaming_services           age  months_per_bill_period  \\\n",
       "count                 115458.000000  1.924590e+05                227628.0   \n",
       "mean                       1.999848  7.579755e+02                     4.0   \n",
       "std                        0.249508  1.920204e+05                     0.0   \n",
       "min                       -0.919933  0.000000e+00                     4.0   \n",
       "25%                        1.867354  3.500000e+01                     4.0   \n",
       "50%                        1.908159  4.600000e+01                     4.0   \n",
       "75%                        1.953559  5.700000e+01                     4.0   \n",
       "max                        6.955714  8.172000e+07                     4.0   \n",
       "\n",
       "       monthly_price  discount_price  creation_until_cancel_days  \\\n",
       "count  227628.000000   227628.000000               151768.000000   \n",
       "mean        4.732049        4.512188                   16.570832   \n",
       "std         0.101049        0.097078                   35.777986   \n",
       "min         0.807400        0.770700                 -108.000000   \n",
       "25%         4.734300        4.514100                    2.000000   \n",
       "50%         4.734300        4.514100                    8.000000   \n",
       "75%         4.734300        4.514100                   13.000000   \n",
       "max         5.101300        5.027900                  312.000000   \n",
       "\n",
       "         revenue_net       join_fee  \n",
       "count  192724.000000  192724.000000  \n",
       "mean        1.557353       0.115145  \n",
       "std         3.068829       0.176971  \n",
       "min        -5.982100      -0.660600  \n",
       "25%         0.000000       0.036700  \n",
       "50%         0.000000       0.036700  \n",
       "75%         2.532300       0.110100  \n",
       "max        15.634200       0.734000  "
      ]
     },
     "execution_count": 4,
     "metadata": {},
     "output_type": "execute_result"
    }
   ],
   "source": [
    "df_sub.describe()"
   ]
  },
  {
   "cell_type": "code",
   "execution_count": 5,
   "id": "899cc6ed",
   "metadata": {},
   "outputs": [
    {
     "data": {
      "text/plain": [
       "subid                                0\n",
       "package_type                     35574\n",
       "num_weekly_services_utilized    110450\n",
       "preferred_genre                  36326\n",
       "intended_use                      3549\n",
       "weekly_consumption_hour          37930\n",
       "num_ideal_streaming_services    112170\n",
       "retarget_TF                          0\n",
       "age                              35169\n",
       "male_TF                            269\n",
       "country                              0\n",
       "attribution_technical                0\n",
       "attribution_survey                2644\n",
       "op_sys                           13375\n",
       "months_per_bill_period               0\n",
       "plan_type                            0\n",
       "monthly_price                        0\n",
       "discount_price                       0\n",
       "account_creation_date                0\n",
       "creation_until_cancel_days       75860\n",
       "cancel_before_trial_end              0\n",
       "trial_end_date                       0\n",
       "initial_credit_card_declined         0\n",
       "revenue_net                      34904\n",
       "join_fee                         34904\n",
       "language                             0\n",
       "paid_TF                              0\n",
       "refund_after_trial_TF                0\n",
       "payment_type                    135578\n",
       "dtype: int64"
      ]
     },
     "execution_count": 5,
     "metadata": {},
     "output_type": "execute_result"
    }
   ],
   "source": [
    "df_sub.isnull().sum()"
   ]
  },
  {
   "cell_type": "code",
   "execution_count": 6,
   "id": "bd223a2f",
   "metadata": {},
   "outputs": [],
   "source": [
    "df_sub['month'] = df_sub['account_creation_date'].map(lambda x: str(x)[:7])"
   ]
  },
  {
   "cell_type": "code",
   "execution_count": 7,
   "id": "7f9d7f66",
   "metadata": {},
   "outputs": [
    {
     "data": {
      "text/plain": [
       "2020-02    28089\n",
       "2019-11    26828\n",
       "2020-03    26122\n",
       "2019-07    25708\n",
       "2019-08    25434\n",
       "2019-12    25339\n",
       "2020-01    24843\n",
       "2019-10    22412\n",
       "2019-09    20190\n",
       "2019-06     2663\n",
       "Name: month, dtype: int64"
      ]
     },
     "execution_count": 7,
     "metadata": {},
     "output_type": "execute_result"
    }
   ],
   "source": [
    "df_sub['month'].value_counts()"
   ]
  },
  {
   "cell_type": "code",
   "execution_count": 8,
   "id": "54ea8686",
   "metadata": {},
   "outputs": [
    {
     "data": {
      "text/plain": [
       "base_14_day_trial    227114\n",
       "high_14_day_trial       340\n",
       "low_no_trial            169\n",
       "low_14_day_trial          4\n",
       "base_no_trial             1\n",
       "Name: plan_type, dtype: int64"
      ]
     },
     "execution_count": 8,
     "metadata": {},
     "output_type": "execute_result"
    }
   ],
   "source": [
    "df_sub[\"plan_type\"] = np.where(df_sub[\"plan_type\"] == \"base_uae_14_day_trial\", \"base_14_day_trial\", df_sub[\"plan_type\"])\n",
    "df_sub[\"plan_type\"] = np.where(df_sub[\"plan_type\"] == \"high_uae_14_day_trial\", \"high_14_day_trial\", df_sub[\"plan_type\"])\n",
    "df_sub[\"plan_type\"] = np.where(df_sub[\"plan_type\"] == \"low_uae_no_trial\", \"low_no_trial\", df_sub[\"plan_type\"])\n",
    "df_sub[\"plan_type\"] = np.where(df_sub[\"plan_type\"] == \"base_uae_14_day_trial\", \"base_14_day_trial\", df_sub[\"plan_type\"])\n",
    "df_sub[\"plan_type\"] = np.where(df_sub[\"plan_type\"] == \"high_sar_14_day_trial\", \"high_14_day_trial\", df_sub[\"plan_type\"])\n",
    "df_sub[\"plan_type\"] = np.where(df_sub[\"plan_type\"] == \"low_gbp_14_day_trial\", \"low_14_day_trial\", df_sub[\"plan_type\"])\n",
    "df_sub[\"plan_type\"] = np.where(df_sub[\"plan_type\"] == \"high_aud_14_day_trial\", \"high_14_day_trial\", df_sub[\"plan_type\"])\n",
    "df_sub[\"plan_type\"] = np.where(df_sub[\"plan_type\"] == \"low_eur_no_trial\", \"low_no_trial\", df_sub[\"plan_type\"])\n",
    "df_sub[\"plan_type\"] = np.where(df_sub[\"plan_type\"] == \"low_sar_no_trial\", \"low_no_trial\", df_sub[\"plan_type\"])\n",
    "df_sub[\"plan_type\"] = np.where(df_sub[\"plan_type\"] == \"base_eur_no_trial_7_day_guarantee\", \"base_no_trial\", df_sub[\"plan_type\"])\n",
    "df_sub[\"plan_type\"] = np.where(df_sub[\"plan_type\"] == \"high_jpy_14_day_trial\", \"high_14_day_trial\", df_sub[\"plan_type\"])\n",
    "df_sub[\"plan_type\"] = np.where(df_sub[\"plan_type\"] == \"base_eur_14_day_trial\", \"base_14_day_trial\", df_sub[\"plan_type\"])\n",
    "df_sub[\"plan_type\"] = np.where(df_sub[\"plan_type\"] == \"base_uae_no_trial_7_day_guarantee\", \"base_no_trial\", df_sub[\"plan_type\"])\n",
    "df_sub['plan_type'].value_counts()"
   ]
  },
  {
   "cell_type": "code",
   "execution_count": 9,
   "id": "62f2e7f6",
   "metadata": {},
   "outputs": [
    {
     "data": {
      "text/plain": [
       "base_14_day_trial    227114\n",
       "high_14_day_trial       340\n",
       "low_no_trial            169\n",
       "Name: plan_type, dtype: int64"
      ]
     },
     "execution_count": 9,
     "metadata": {},
     "output_type": "execute_result"
    }
   ],
   "source": [
    "df_sub = df_sub[df_sub['plan_type'] != 'base_no_trial']\n",
    "df_sub = df_sub[df_sub['plan_type'] != 'low_14_day_trial']\n",
    "df_sub['plan_type'].value_counts()"
   ]
  },
  {
   "cell_type": "code",
   "execution_count": 10,
   "id": "cff17bd4",
   "metadata": {},
   "outputs": [],
   "source": [
    "#Drop unreasonable data\n",
    "#Target customers aged between 7 and 80\n",
    "df_sub.drop(df_sub[df_sub['weekly_consumption_hour'] < 0 ].index, inplace=True)\n",
    "df_sub.drop(df_sub[df_sub['num_ideal_streaming_services'] < 0 ].index, inplace=True)\n",
    "df_sub.drop(df_sub[df_sub['age'] > 80 ].index, inplace=True)\n",
    "df_sub.drop(df_sub[df_sub['age'] < 7 ].index, inplace=True)\n",
    "df_sub.drop(df_sub[df_sub['join_fee'] < 0 ].index, inplace=True)"
   ]
  },
  {
   "cell_type": "markdown",
   "id": "5827d224",
   "metadata": {},
   "source": [
    "# These different pricing schemes will be compared:\n",
    "## 1. base monthly price with a 14-days trial (all currencies)\n",
    "## 2. low monthly price without trial (all currencies)\n",
    "## 3. high monthly price with a 14-days trial (all currencies)"
   ]
  },
  {
   "cell_type": "code",
   "execution_count": 11,
   "id": "2355e056",
   "metadata": {},
   "outputs": [
    {
     "data": {
      "text/plain": [
       "base_14_day_trial    225724\n",
       "high_14_day_trial       339\n",
       "low_no_trial            168\n",
       "Name: plan_type, dtype: int64"
      ]
     },
     "execution_count": 11,
     "metadata": {},
     "output_type": "execute_result"
    }
   ],
   "source": [
    "df_sub['plan_type'].value_counts()"
   ]
  },
  {
   "cell_type": "code",
   "execution_count": 12,
   "id": "ab1dae83",
   "metadata": {},
   "outputs": [],
   "source": [
    "# conversion defined as customer who made past trial, didn't cancel after trial, and had revenue > 1\n",
    "df_sub['conversion'] = np.where((df_sub['cancel_before_trial_end'] == False) | (df_sub['revenue_net'] < 1) |\n",
    "                                (df_sub['refund_after_trial_TF'] == True),\n",
    "                                    False, True)"
   ]
  },
  {
   "cell_type": "code",
   "execution_count": 13,
   "id": "5fa9a575",
   "metadata": {},
   "outputs": [
    {
     "data": {
      "text/plain": [
       "2019-07    146\n",
       "2019-11      8\n",
       "2019-08      6\n",
       "2019-10      4\n",
       "2019-09      4\n",
       "Name: month, dtype: int64"
      ]
     },
     "execution_count": 13,
     "metadata": {},
     "output_type": "execute_result"
    }
   ],
   "source": [
    "df_sub[df_sub['plan_type'] == 'low_no_trial']['month'].value_counts() "
   ]
  },
  {
   "cell_type": "code",
   "execution_count": 14,
   "id": "d715e605",
   "metadata": {},
   "outputs": [
    {
     "data": {
      "text/plain": [
       "2020-02    27930\n",
       "2019-11    26326\n",
       "2020-03    26041\n",
       "2019-07    25365\n",
       "2019-08    25281\n",
       "2019-12    25143\n",
       "2020-01    24665\n",
       "2019-10    22293\n",
       "2019-09    20041\n",
       "2019-06     2639\n",
       "Name: month, dtype: int64"
      ]
     },
     "execution_count": 14,
     "metadata": {},
     "output_type": "execute_result"
    }
   ],
   "source": [
    "df_sub[df_sub['plan_type'] == 'base_14_day_trial']['month'].value_counts()"
   ]
  },
  {
   "cell_type": "code",
   "execution_count": 15,
   "id": "00d3005a",
   "metadata": {},
   "outputs": [
    {
     "data": {
      "text/plain": [
       "2019-11    324\n",
       "2019-07      5\n",
       "2019-08      3\n",
       "2019-10      2\n",
       "2019-09      2\n",
       "2020-01      2\n",
       "2020-03      1\n",
       "Name: month, dtype: int64"
      ]
     },
     "execution_count": 15,
     "metadata": {},
     "output_type": "execute_result"
    }
   ],
   "source": [
    "df_sub[df_sub['plan_type'] == 'high_14_day_trial']['month'].value_counts()"
   ]
  },
  {
   "cell_type": "markdown",
   "id": "e8a91fdd",
   "metadata": {},
   "source": [
    "### Pick a same time period with no chance of data still in trial period corrupting calculations.\n",
    "### So, 2019-07 through 2020-02"
   ]
  },
  {
   "cell_type": "markdown",
   "id": "c83c2eb1",
   "metadata": {},
   "source": [
    "# First let's compare base and low"
   ]
  },
  {
   "cell_type": "markdown",
   "id": "9b711653",
   "metadata": {},
   "source": [
    "### Null hypothesis: convert_low = convert_base\n",
    "### Alternative hypothesis: convert_low > convert_base"
   ]
  },
  {
   "cell_type": "code",
   "execution_count": 16,
   "id": "9ebea4fe",
   "metadata": {},
   "outputs": [
    {
     "data": {
      "text/plain": [
       "2020-02    27930\n",
       "2019-11    26334\n",
       "2019-07    25511\n",
       "2019-08    25287\n",
       "2019-12    25143\n",
       "2020-01    24665\n",
       "2019-10    22297\n",
       "2019-09    20045\n",
       "Name: month, dtype: int64"
      ]
     },
     "execution_count": 16,
     "metadata": {},
     "output_type": "execute_result"
    }
   ],
   "source": [
    "df_ab1 = df_sub[df_sub['plan_type'] != 'high_14_day_trial'] #So select only base and low\n",
    "date_list = [\"2019-07\", \"2019-08\", \"2019-09\", \"2019-10\", \"2019-11\", \"2019-12\", \"2020-01\", \"2020-02\"]\n",
    "df_ab1 = df_ab1[df_ab1['month'].isin(date_list)]\n",
    "df_ab1[\"month\"].value_counts()"
   ]
  },
  {
   "cell_type": "code",
   "execution_count": 17,
   "id": "52e45c26",
   "metadata": {},
   "outputs": [
    {
     "data": {
      "text/plain": [
       "plan_type          conversion\n",
       "base_14_day_trial  False         125925\n",
       "                   True           71119\n",
       "low_no_trial       True             130\n",
       "                   False             38\n",
       "Name: conversion, dtype: int64"
      ]
     },
     "execution_count": 17,
     "metadata": {},
     "output_type": "execute_result"
    }
   ],
   "source": [
    "df_ab1.groupby(\"plan_type\")[\"conversion\"].value_counts()"
   ]
  },
  {
   "cell_type": "code",
   "execution_count": 18,
   "id": "650870bc",
   "metadata": {},
   "outputs": [
    {
     "data": {
      "text/html": [
       "<div>\n",
       "<style scoped>\n",
       "    .dataframe tbody tr th:only-of-type {\n",
       "        vertical-align: middle;\n",
       "    }\n",
       "\n",
       "    .dataframe tbody tr th {\n",
       "        vertical-align: top;\n",
       "    }\n",
       "\n",
       "    .dataframe thead th {\n",
       "        text-align: right;\n",
       "    }\n",
       "</style>\n",
       "<table border=\"1\" class=\"dataframe\">\n",
       "  <thead>\n",
       "    <tr style=\"text-align: right;\">\n",
       "      <th></th>\n",
       "      <th>plan_type</th>\n",
       "      <th>count</th>\n",
       "      <th>sum</th>\n",
       "      <th>conversion</th>\n",
       "    </tr>\n",
       "  </thead>\n",
       "  <tbody>\n",
       "    <tr>\n",
       "      <th>0</th>\n",
       "      <td>base_14_day_trial</td>\n",
       "      <td>197044</td>\n",
       "      <td>71119</td>\n",
       "      <td>0.36093</td>\n",
       "    </tr>\n",
       "    <tr>\n",
       "      <th>1</th>\n",
       "      <td>low_no_trial</td>\n",
       "      <td>168</td>\n",
       "      <td>130</td>\n",
       "      <td>0.77381</td>\n",
       "    </tr>\n",
       "  </tbody>\n",
       "</table>\n",
       "</div>"
      ],
      "text/plain": [
       "           plan_type   count    sum  conversion\n",
       "0  base_14_day_trial  197044  71119     0.36093\n",
       "1       low_no_trial     168    130     0.77381"
      ]
     },
     "execution_count": 18,
     "metadata": {},
     "output_type": "execute_result"
    }
   ],
   "source": [
    "df_ab1_count = df_ab1.groupby(['plan_type'])['conversion'].agg(['count','sum']).reset_index()\n",
    "df_ab1_count['conversion'] = df_ab1_count['sum'] / df_ab1_count['count']\n",
    "df_ab1_count"
   ]
  },
  {
   "cell_type": "code",
   "execution_count": 19,
   "id": "e36cad30",
   "metadata": {},
   "outputs": [
    {
     "data": {
      "text/plain": [
       "plan_type\n",
       "base_14_day_trial    4.514079\n",
       "low_no_trial         1.026945\n",
       "Name: discount_price, dtype: float64"
      ]
     },
     "execution_count": 19,
     "metadata": {},
     "output_type": "execute_result"
    }
   ],
   "source": [
    "df_ab1.groupby('plan_type').discount_price.mean()"
   ]
  },
  {
   "cell_type": "code",
   "execution_count": 20,
   "id": "c16fea78",
   "metadata": {},
   "outputs": [
    {
     "name": "stdout",
     "output_type": "stream",
     "text": [
      "p0: 0.36\n",
      "p1: 0.77\n"
     ]
    }
   ],
   "source": [
    "p0 = df_ab1_count.loc[0,'conversion']\n",
    "p1 = df_ab1_count.loc[1,'conversion']\n",
    "print(\"p0: %.2f\" % p0)\n",
    "print(\"p1: %.2f\" % p1)"
   ]
  },
  {
   "cell_type": "code",
   "execution_count": 21,
   "id": "ec540b29",
   "metadata": {},
   "outputs": [
    {
     "data": {
      "text/plain": [
       "1.6448536269514722"
      ]
     },
     "execution_count": 21,
     "metadata": {},
     "output_type": "execute_result"
    }
   ],
   "source": [
    "# Z critical value with 95% confidence level\n",
    "from scipy.stats import norm\n",
    "norm.ppf(1-(0.05/1))"
   ]
  },
  {
   "cell_type": "code",
   "execution_count": 22,
   "id": "feec7ca1",
   "metadata": {},
   "outputs": [],
   "source": [
    "def z_score(p1:float, p0:float, n = int)->float:\n",
    "    z = (p1 - p0) / math.sqrt(p0*(1-p0)/n)\n",
    "    return z"
   ]
  },
  {
   "cell_type": "code",
   "execution_count": 23,
   "id": "a5eeef5c",
   "metadata": {},
   "outputs": [
    {
     "data": {
      "text/plain": [
       "11.142762810119882"
      ]
     },
     "execution_count": 23,
     "metadata": {},
     "output_type": "execute_result"
    }
   ],
   "source": [
    "z_score(p1,p0,df_ab1_count.loc[1,'count'])"
   ]
  },
  {
   "cell_type": "markdown",
   "id": "6d3a34bf",
   "metadata": {},
   "source": [
    "## Because 11.14 > 1.64, we reject the null hypothesis and low monthly price without trial scheme was effective and increased conversion rate."
   ]
  },
  {
   "cell_type": "markdown",
   "id": "1408c806",
   "metadata": {},
   "source": [
    "# Secondly, let's compare base and high"
   ]
  },
  {
   "cell_type": "markdown",
   "id": "3411b1c9",
   "metadata": {},
   "source": [
    "### Null hypothesis: convert_high = convert_base\n",
    "### Alternative hypothesis: convert_high > convert_base"
   ]
  },
  {
   "cell_type": "code",
   "execution_count": 24,
   "id": "181161e2",
   "metadata": {},
   "outputs": [
    {
     "data": {
      "text/plain": [
       "2020-02    27930\n",
       "2019-11    26650\n",
       "2019-07    25370\n",
       "2019-08    25284\n",
       "2019-12    25143\n",
       "2020-01    24667\n",
       "2019-10    22295\n",
       "2019-09    20043\n",
       "Name: month, dtype: int64"
      ]
     },
     "execution_count": 24,
     "metadata": {},
     "output_type": "execute_result"
    }
   ],
   "source": [
    "df_ab2 = df_sub[df_sub['plan_type'] != 'low_no_trial'] #So select only base and low\n",
    "df_ab2 = df_ab2[df_ab2['month'].isin(date_list)]\n",
    "df_ab2[\"month\"].value_counts()"
   ]
  },
  {
   "cell_type": "code",
   "execution_count": 25,
   "id": "a740d617",
   "metadata": {},
   "outputs": [
    {
     "data": {
      "text/plain": [
       "plan_type          conversion\n",
       "base_14_day_trial  False         125925\n",
       "                   True           71119\n",
       "high_14_day_trial  False            238\n",
       "                   True             100\n",
       "Name: conversion, dtype: int64"
      ]
     },
     "execution_count": 25,
     "metadata": {},
     "output_type": "execute_result"
    }
   ],
   "source": [
    "df_ab2.groupby(\"plan_type\")[\"conversion\"].value_counts()"
   ]
  },
  {
   "cell_type": "code",
   "execution_count": 26,
   "id": "22eb9a09",
   "metadata": {},
   "outputs": [
    {
     "data": {
      "text/html": [
       "<div>\n",
       "<style scoped>\n",
       "    .dataframe tbody tr th:only-of-type {\n",
       "        vertical-align: middle;\n",
       "    }\n",
       "\n",
       "    .dataframe tbody tr th {\n",
       "        vertical-align: top;\n",
       "    }\n",
       "\n",
       "    .dataframe thead th {\n",
       "        text-align: right;\n",
       "    }\n",
       "</style>\n",
       "<table border=\"1\" class=\"dataframe\">\n",
       "  <thead>\n",
       "    <tr style=\"text-align: right;\">\n",
       "      <th></th>\n",
       "      <th>plan_type</th>\n",
       "      <th>count</th>\n",
       "      <th>sum</th>\n",
       "      <th>conversion</th>\n",
       "    </tr>\n",
       "  </thead>\n",
       "  <tbody>\n",
       "    <tr>\n",
       "      <th>0</th>\n",
       "      <td>base_14_day_trial</td>\n",
       "      <td>197044</td>\n",
       "      <td>71119</td>\n",
       "      <td>0.360930</td>\n",
       "    </tr>\n",
       "    <tr>\n",
       "      <th>1</th>\n",
       "      <td>high_14_day_trial</td>\n",
       "      <td>338</td>\n",
       "      <td>100</td>\n",
       "      <td>0.295858</td>\n",
       "    </tr>\n",
       "  </tbody>\n",
       "</table>\n",
       "</div>"
      ],
      "text/plain": [
       "           plan_type   count    sum  conversion\n",
       "0  base_14_day_trial  197044  71119    0.360930\n",
       "1  high_14_day_trial     338    100    0.295858"
      ]
     },
     "execution_count": 26,
     "metadata": {},
     "output_type": "execute_result"
    }
   ],
   "source": [
    "df_ab2_count = df_ab2.groupby(['plan_type'])['conversion'].agg(['count','sum']).reset_index()\n",
    "df_ab2_count['conversion'] = df_ab2_count['sum'] / df_ab2_count['count']\n",
    "df_ab2_count"
   ]
  },
  {
   "cell_type": "code",
   "execution_count": 27,
   "id": "d69f838b",
   "metadata": {},
   "outputs": [
    {
     "data": {
      "text/plain": [
       "plan_type\n",
       "base_14_day_trial    4.514079\n",
       "high_14_day_trial    4.987725\n",
       "Name: discount_price, dtype: float64"
      ]
     },
     "execution_count": 27,
     "metadata": {},
     "output_type": "execute_result"
    }
   ],
   "source": [
    "df_ab2.groupby('plan_type').discount_price.mean()"
   ]
  },
  {
   "cell_type": "code",
   "execution_count": 28,
   "id": "907f72ce",
   "metadata": {},
   "outputs": [
    {
     "name": "stdout",
     "output_type": "stream",
     "text": [
      "p0: 0.36\n",
      "p1: 0.30\n"
     ]
    }
   ],
   "source": [
    "p0 = df_ab2_count.loc[0,'conversion']\n",
    "p1 = df_ab2_count.loc[1,'conversion']\n",
    "print(\"p0: %.2f\" % p0)\n",
    "print(\"p1: %.2f\" % p1)"
   ]
  },
  {
   "cell_type": "code",
   "execution_count": 29,
   "id": "17e6672c",
   "metadata": {},
   "outputs": [
    {
     "data": {
      "text/plain": [
       "-2.4909437429665013"
      ]
     },
     "execution_count": 29,
     "metadata": {},
     "output_type": "execute_result"
    }
   ],
   "source": [
    "z_score(p1,p0,df_ab2_count.loc[1,'count'])"
   ]
  },
  {
   "cell_type": "markdown",
   "id": "9a9c5169",
   "metadata": {},
   "source": [
    "## Because -2.49 < 1.64, we fail to reject the null hypothesis and high monthly price with a 14-days trial scheme was not effective and cannot increase conversion rate."
   ]
  }
 ],
 "metadata": {
  "kernelspec": {
   "display_name": "Python 3 (ipykernel)",
   "language": "python",
   "name": "python3"
  },
  "language_info": {
   "codemirror_mode": {
    "name": "ipython",
    "version": 3
   },
   "file_extension": ".py",
   "mimetype": "text/x-python",
   "name": "python",
   "nbconvert_exporter": "python",
   "pygments_lexer": "ipython3",
   "version": "3.9.12"
  }
 },
 "nbformat": 4,
 "nbformat_minor": 5
}
