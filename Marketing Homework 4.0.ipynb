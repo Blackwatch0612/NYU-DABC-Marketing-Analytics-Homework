{
 "cells": [
  {
   "cell_type": "markdown",
   "id": "72fe7d5a",
   "metadata": {},
   "source": [
    "## General assumptions:"
   ]
  },
  {
   "cell_type": "markdown",
   "id": "8f05da38",
   "metadata": {},
   "source": [
    "### Version A is treated as the population, while version B is treated as the sample"
   ]
  },
  {
   "cell_type": "code",
   "execution_count": 24,
   "id": "30700bfb",
   "metadata": {},
   "outputs": [],
   "source": [
    "import numpy as np\n",
    "import pandas as pd\n",
    "import scipy.stats as stats\n",
    "import statsmodels.stats.api as sms\n",
    "from math import ceil"
   ]
  },
  {
   "cell_type": "code",
   "execution_count": 25,
   "id": "3eba26be",
   "metadata": {},
   "outputs": [
    {
     "data": {
      "text/html": [
       "<div>\n",
       "<style scoped>\n",
       "    .dataframe tbody tr th:only-of-type {\n",
       "        vertical-align: middle;\n",
       "    }\n",
       "\n",
       "    .dataframe tbody tr th {\n",
       "        vertical-align: top;\n",
       "    }\n",
       "\n",
       "    .dataframe thead th {\n",
       "        text-align: right;\n",
       "    }\n",
       "</style>\n",
       "<table border=\"1\" class=\"dataframe\">\n",
       "  <thead>\n",
       "    <tr style=\"text-align: right;\">\n",
       "      <th></th>\n",
       "      <th>purchase_TF</th>\n",
       "      <th>Variant</th>\n",
       "      <th>date</th>\n",
       "      <th>id</th>\n",
       "    </tr>\n",
       "  </thead>\n",
       "  <tbody>\n",
       "    <tr>\n",
       "      <th>0</th>\n",
       "      <td>False</td>\n",
       "      <td>A</td>\n",
       "      <td>2019-11-08</td>\n",
       "      <td>0x25b44a</td>\n",
       "    </tr>\n",
       "    <tr>\n",
       "      <th>1</th>\n",
       "      <td>False</td>\n",
       "      <td>B</td>\n",
       "      <td>2020-08-27</td>\n",
       "      <td>0x46271e</td>\n",
       "    </tr>\n",
       "    <tr>\n",
       "      <th>2</th>\n",
       "      <td>False</td>\n",
       "      <td>A</td>\n",
       "      <td>2020-06-11</td>\n",
       "      <td>0x80b8f1</td>\n",
       "    </tr>\n",
       "    <tr>\n",
       "      <th>3</th>\n",
       "      <td>False</td>\n",
       "      <td>B</td>\n",
       "      <td>2020-08-22</td>\n",
       "      <td>0x8d736d</td>\n",
       "    </tr>\n",
       "    <tr>\n",
       "      <th>4</th>\n",
       "      <td>False</td>\n",
       "      <td>A</td>\n",
       "      <td>2020-08-05</td>\n",
       "      <td>0x96c9c8</td>\n",
       "    </tr>\n",
       "  </tbody>\n",
       "</table>\n",
       "</div>"
      ],
      "text/plain": [
       "   purchase_TF Variant        date        id\n",
       "0        False       A  2019-11-08  0x25b44a\n",
       "1        False       B  2020-08-27  0x46271e\n",
       "2        False       A  2020-06-11  0x80b8f1\n",
       "3        False       B  2020-08-22  0x8d736d\n",
       "4        False       A  2020-08-05  0x96c9c8"
      ]
     },
     "execution_count": 25,
     "metadata": {},
     "output_type": "execute_result"
    }
   ],
   "source": [
    "df = pd.read_csv('/Users/reesezhuang/Desktop/AB_test_data.csv')\n",
    "df.head(5)"
   ]
  },
  {
   "cell_type": "code",
   "execution_count": 26,
   "id": "2a0e7ea9",
   "metadata": {},
   "outputs": [
    {
     "data": {
      "text/html": [
       "<div>\n",
       "<style scoped>\n",
       "    .dataframe tbody tr th:only-of-type {\n",
       "        vertical-align: middle;\n",
       "    }\n",
       "\n",
       "    .dataframe tbody tr th {\n",
       "        vertical-align: top;\n",
       "    }\n",
       "\n",
       "    .dataframe thead th {\n",
       "        text-align: right;\n",
       "    }\n",
       "</style>\n",
       "<table border=\"1\" class=\"dataframe\">\n",
       "  <thead>\n",
       "    <tr style=\"text-align: right;\">\n",
       "      <th></th>\n",
       "      <th>purchase_TF</th>\n",
       "      <th>Variant</th>\n",
       "      <th>date</th>\n",
       "      <th>id</th>\n",
       "    </tr>\n",
       "  </thead>\n",
       "  <tbody>\n",
       "    <tr>\n",
       "      <th>0</th>\n",
       "      <td>0</td>\n",
       "      <td>A</td>\n",
       "      <td>2019-11-08</td>\n",
       "      <td>0x25b44a</td>\n",
       "    </tr>\n",
       "    <tr>\n",
       "      <th>1</th>\n",
       "      <td>0</td>\n",
       "      <td>B</td>\n",
       "      <td>2020-08-27</td>\n",
       "      <td>0x46271e</td>\n",
       "    </tr>\n",
       "    <tr>\n",
       "      <th>2</th>\n",
       "      <td>0</td>\n",
       "      <td>A</td>\n",
       "      <td>2020-06-11</td>\n",
       "      <td>0x80b8f1</td>\n",
       "    </tr>\n",
       "    <tr>\n",
       "      <th>3</th>\n",
       "      <td>0</td>\n",
       "      <td>B</td>\n",
       "      <td>2020-08-22</td>\n",
       "      <td>0x8d736d</td>\n",
       "    </tr>\n",
       "    <tr>\n",
       "      <th>4</th>\n",
       "      <td>0</td>\n",
       "      <td>A</td>\n",
       "      <td>2020-08-05</td>\n",
       "      <td>0x96c9c8</td>\n",
       "    </tr>\n",
       "  </tbody>\n",
       "</table>\n",
       "</div>"
      ],
      "text/plain": [
       "   purchase_TF Variant        date        id\n",
       "0            0       A  2019-11-08  0x25b44a\n",
       "1            0       B  2020-08-27  0x46271e\n",
       "2            0       A  2020-06-11  0x80b8f1\n",
       "3            0       B  2020-08-22  0x8d736d\n",
       "4            0       A  2020-08-05  0x96c9c8"
      ]
     },
     "execution_count": 26,
     "metadata": {},
     "output_type": "execute_result"
    }
   ],
   "source": [
    "purchase_statu = {\n",
    "    False: 0,\n",
    "    True: 1,\n",
    "}\n",
    "\n",
    "df.purchase_TF = df.purchase_TF.map(purchase_statu)\n",
    "df.head()"
   ]
  },
  {
   "cell_type": "code",
   "execution_count": 27,
   "id": "3dd22ad5",
   "metadata": {},
   "outputs": [
    {
     "name": "stdout",
     "output_type": "stream",
     "text": [
      "<class 'pandas.core.frame.DataFrame'>\n",
      "RangeIndex: 130000 entries, 0 to 129999\n",
      "Data columns (total 4 columns):\n",
      " #   Column       Non-Null Count   Dtype \n",
      "---  ------       --------------   ----- \n",
      " 0   purchase_TF  130000 non-null  int64 \n",
      " 1   Variant      130000 non-null  object\n",
      " 2   date         130000 non-null  object\n",
      " 3   id           130000 non-null  object\n",
      "dtypes: int64(1), object(3)\n",
      "memory usage: 4.0+ MB\n"
     ]
    }
   ],
   "source": [
    "df.info()"
   ]
  },
  {
   "cell_type": "code",
   "execution_count": 28,
   "id": "d5b0a2f0",
   "metadata": {},
   "outputs": [
    {
     "data": {
      "text/plain": [
       "130000"
      ]
     },
     "execution_count": 28,
     "metadata": {},
     "output_type": "execute_result"
    }
   ],
   "source": [
    "df.id.nunique()"
   ]
  },
  {
   "cell_type": "code",
   "execution_count": 29,
   "id": "1a8f9225",
   "metadata": {},
   "outputs": [
    {
     "data": {
      "text/plain": [
       "Variant  purchase_TF\n",
       "A        0              106298\n",
       "         1               18702\n",
       "B        0                4117\n",
       "         1                 883\n",
       "Name: purchase_TF, dtype: int64"
      ]
     },
     "execution_count": 29,
     "metadata": {},
     "output_type": "execute_result"
    }
   ],
   "source": [
    "df.groupby(\"Variant\")[\"purchase_TF\"].value_counts()"
   ]
  },
  {
   "cell_type": "markdown",
   "id": "272395ee",
   "metadata": {},
   "source": [
    "# Q1"
   ]
  },
  {
   "cell_type": "code",
   "execution_count": 30,
   "id": "5f385973",
   "metadata": {},
   "outputs": [],
   "source": [
    "ab_summary = df.pivot_table(values='purchase_TF', index='Variant', aggfunc=np.sum)\n",
    "# add additional columns to the pivot table\n",
    "ab_summary['total'] = df.pivot_table(values='purchase_TF', index='Variant', aggfunc=lambda x: len(x))\n",
    "ab_summary['rate'] = df.pivot_table(values='purchase_TF', index='Variant')"
   ]
  },
  {
   "cell_type": "code",
   "execution_count": 31,
   "id": "b9b737cb",
   "metadata": {},
   "outputs": [
    {
     "data": {
      "text/html": [
       "<div>\n",
       "<style scoped>\n",
       "    .dataframe tbody tr th:only-of-type {\n",
       "        vertical-align: middle;\n",
       "    }\n",
       "\n",
       "    .dataframe tbody tr th {\n",
       "        vertical-align: top;\n",
       "    }\n",
       "\n",
       "    .dataframe thead th {\n",
       "        text-align: right;\n",
       "    }\n",
       "</style>\n",
       "<table border=\"1\" class=\"dataframe\">\n",
       "  <thead>\n",
       "    <tr style=\"text-align: right;\">\n",
       "      <th></th>\n",
       "      <th>purchase_TF</th>\n",
       "      <th>total</th>\n",
       "      <th>rate</th>\n",
       "    </tr>\n",
       "    <tr>\n",
       "      <th>Variant</th>\n",
       "      <th></th>\n",
       "      <th></th>\n",
       "      <th></th>\n",
       "    </tr>\n",
       "  </thead>\n",
       "  <tbody>\n",
       "    <tr>\n",
       "      <th>A</th>\n",
       "      <td>18702</td>\n",
       "      <td>125000</td>\n",
       "      <td>0.149616</td>\n",
       "    </tr>\n",
       "    <tr>\n",
       "      <th>B</th>\n",
       "      <td>883</td>\n",
       "      <td>5000</td>\n",
       "      <td>0.176600</td>\n",
       "    </tr>\n",
       "  </tbody>\n",
       "</table>\n",
       "</div>"
      ],
      "text/plain": [
       "         purchase_TF   total      rate\n",
       "Variant                               \n",
       "A              18702  125000  0.149616\n",
       "B                883    5000  0.176600"
      ]
     },
     "execution_count": 31,
     "metadata": {},
     "output_type": "execute_result"
    }
   ],
   "source": [
    "ab_summary"
   ]
  },
  {
   "cell_type": "code",
   "execution_count": 32,
   "id": "086046ff",
   "metadata": {},
   "outputs": [
    {
     "data": {
      "text/html": [
       "<style type=\"text/css\">\n",
       "</style>\n",
       "<table id=\"T_8383a\">\n",
       "  <thead>\n",
       "    <tr>\n",
       "      <th class=\"blank level0\" >&nbsp;</th>\n",
       "      <th id=\"T_8383a_level0_col0\" class=\"col_heading level0 col0\" >conversion_rate</th>\n",
       "      <th id=\"T_8383a_level0_col1\" class=\"col_heading level0 col1\" >std_deviation</th>\n",
       "      <th id=\"T_8383a_level0_col2\" class=\"col_heading level0 col2\" >std_error</th>\n",
       "    </tr>\n",
       "    <tr>\n",
       "      <th class=\"index_name level0\" >Variant</th>\n",
       "      <th class=\"blank col0\" >&nbsp;</th>\n",
       "      <th class=\"blank col1\" >&nbsp;</th>\n",
       "      <th class=\"blank col2\" >&nbsp;</th>\n",
       "    </tr>\n",
       "  </thead>\n",
       "  <tbody>\n",
       "    <tr>\n",
       "      <th id=\"T_8383a_level0_row0\" class=\"row_heading level0 row0\" >A</th>\n",
       "      <td id=\"T_8383a_row0_col0\" class=\"data row0 col0\" >0.150</td>\n",
       "      <td id=\"T_8383a_row0_col1\" class=\"data row0 col1\" >0.357</td>\n",
       "      <td id=\"T_8383a_row0_col2\" class=\"data row0 col2\" >0.001</td>\n",
       "    </tr>\n",
       "    <tr>\n",
       "      <th id=\"T_8383a_level0_row1\" class=\"row_heading level0 row1\" >B</th>\n",
       "      <td id=\"T_8383a_row1_col0\" class=\"data row1 col0\" >0.177</td>\n",
       "      <td id=\"T_8383a_row1_col1\" class=\"data row1 col1\" >0.381</td>\n",
       "      <td id=\"T_8383a_row1_col2\" class=\"data row1 col2\" >0.005</td>\n",
       "    </tr>\n",
       "  </tbody>\n",
       "</table>\n"
      ],
      "text/plain": [
       "<pandas.io.formats.style.Styler at 0x7fd083920550>"
      ]
     },
     "execution_count": 32,
     "metadata": {},
     "output_type": "execute_result"
    }
   ],
   "source": [
    "conversion_rates = df.groupby('Variant')['purchase_TF']\n",
    "\n",
    "std_p = lambda x: np.std(x, ddof=0)              # Std. deviation of the proportion\n",
    "se_p = lambda x: stats.sem(x, ddof=0)            # Std. error of the proportion (std / sqrt(n))\n",
    "\n",
    "conversion_rates = conversion_rates.agg([np.mean, std_p, se_p])\n",
    "conversion_rates.columns = ['conversion_rate', 'std_deviation', 'std_error']\n",
    "\n",
    "\n",
    "conversion_rates.style.format('{:.3f}')"
   ]
  },
  {
   "cell_type": "markdown",
   "id": "54bbf845",
   "metadata": {},
   "source": [
    "## Null Hypothesis: P_hat = P\n",
    "## Alternative Hypothesis: P_hat > P"
   ]
  },
  {
   "cell_type": "code",
   "execution_count": 33,
   "id": "a875cdec",
   "metadata": {},
   "outputs": [],
   "source": [
    "import math\n",
    "def z_score(p_hat:float, p:float, n = int)->float:\n",
    "    z = (p_hat - p) / math.sqrt(p*(1-p)/n)\n",
    "    return z"
   ]
  },
  {
   "cell_type": "code",
   "execution_count": 34,
   "id": "d274b54e",
   "metadata": {},
   "outputs": [
    {
     "data": {
      "text/plain": [
       "5.346796732074041"
      ]
     },
     "execution_count": 34,
     "metadata": {},
     "output_type": "execute_result"
    }
   ],
   "source": [
    "z_score(0.177,0.150,5000)"
   ]
  },
  {
   "cell_type": "markdown",
   "id": "5ca8f579",
   "metadata": {},
   "source": [
    "## Because 5.34 > 1.64, we reject the null hypothesis and Alternative B was effective and increased conversion rate."
   ]
  },
  {
   "cell_type": "markdown",
   "id": "da9963a2",
   "metadata": {},
   "source": [
    "# Q2"
   ]
  },
  {
   "cell_type": "code",
   "execution_count": 35,
   "id": "27253901",
   "metadata": {},
   "outputs": [],
   "source": [
    "from scipy.stats import norm\n",
    "def sample_size_p(a: float, b: float, p_bar: float, p0: float, p1: float) -> int:\n",
    "    n = pow((norm.ppf(1 - a / 2) * math.sqrt(2*p_bar*(1-p_bar)) + norm.ppf(1 - b) * \n",
    "             math.sqrt(p0*(1-p0)) + p1*(1-p1)), 2) / pow(abs(p1-p0),2)\n",
    "    return math.ceil(n)"
   ]
  },
  {
   "cell_type": "code",
   "execution_count": 36,
   "id": "a39160f3",
   "metadata": {},
   "outputs": [
    {
     "data": {
      "text/plain": [
       "1566"
      ]
     },
     "execution_count": 36,
     "metadata": {},
     "output_type": "execute_result"
    }
   ],
   "source": [
    "sample_size_p(0.5, 0.2, 0.16, 0.15, 0.17)"
   ]
  },
  {
   "cell_type": "code",
   "execution_count": 37,
   "id": "79894fd2",
   "metadata": {},
   "outputs": [
    {
     "name": "stdout",
     "output_type": "stream",
     "text": [
      "[3.0251652676419405, 1.6791153614563907, 3.237699463355447, 3.6627678547824627, 3.0251652676419405, 1.1832022381248728, 5.150507224777017, 2.529252144310423, 2.8126310719284313, 2.0333390209789046]\n"
     ]
    }
   ],
   "source": [
    "z_score_list = []\n",
    "for i in range(1,11):\n",
    "    control_sample = df[df['Variant'] == 'A']\n",
    "    treatment_sample = df[df['Variant'] == 'B'].sample(n=sample_size_p(0.5, 0.2, 0.16, 0.15, 0.17), random_state=i)\n",
    "    ab_test = pd.concat([control_sample, treatment_sample], axis=0)\n",
    "    ab_test.reset_index(drop=True, inplace=True)\n",
    "    control_results = ab_test[ab_test['Variant'] == 'A']['purchase_TF']\n",
    "    treatment_results = ab_test[ab_test['Variant'] == 'B']['purchase_TF']\n",
    "    n_con = control_results.count()\n",
    "    n_treat = treatment_results.count()\n",
    "    success_A = control_results.sum() / n_con \n",
    "    success_B = treatment_results.sum() / n_treat \n",
    "    z = z_score(success_B,success_A,1566)\n",
    "    z_score_list.append(z)\n",
    "print(z_score_list)"
   ]
  },
  {
   "cell_type": "code",
   "execution_count": 38,
   "id": "a8ec8cf5",
   "metadata": {},
   "outputs": [
    {
     "name": "stdout",
     "output_type": "stream",
     "text": [
      "In the 1 attempt, reject null hypothesis. Alternative B was effective and increased conversion rate.\n",
      "In the 2 attempt, reject null hypothesis. Alternative B was effective and increased conversion rate.\n",
      "In the 3 attempt, reject null hypothesis. Alternative B was effective and increased conversion rate.\n",
      "In the 4 attempt, reject null hypothesis. Alternative B was effective and increased conversion rate.\n",
      "In the 5 attempt, reject null hypothesis. Alternative B was effective and increased conversion rate.\n",
      "In the 6 attempt, fail to reject null hypothesis. Alternative B was not effective and did not increased conversion rate.\n",
      "In the 7 attempt, reject null hypothesis. Alternative B was effective and increased conversion rate.\n",
      "In the 8 attempt, reject null hypothesis. Alternative B was effective and increased conversion rate.\n",
      "In the 9 attempt, reject null hypothesis. Alternative B was effective and increased conversion rate.\n",
      "In the 10 attempt, reject null hypothesis. Alternative B was effective and increased conversion rate.\n"
     ]
    }
   ],
   "source": [
    "attempt = 0\n",
    "for k in z_score_list:\n",
    "    attempt += 1\n",
    "    if k > 1.64:\n",
    "        print(\"In the %d attempt, reject null hypothesis. Alternative B was effective and increased conversion rate.\" % attempt)\n",
    "    else:\n",
    "        print(\"In the %d attempt, fail to reject null hypothesis. Alternative B was not effective and did not increased conversion rate.\" % attempt)"
   ]
  },
  {
   "cell_type": "markdown",
   "id": "e138857e",
   "metadata": {},
   "source": [
    "# Q3"
   ]
  },
  {
   "cell_type": "markdown",
   "id": "91e12a78",
   "metadata": {},
   "source": [
    "### for conservative boundaries, A = 1/alpha, B = beta\n",
    "alpha = 0.05, beta = 0.2 as stated in Q2"
   ]
  },
  {
   "cell_type": "markdown",
   "id": "f7d474df",
   "metadata": {},
   "source": [
    "## calculating boundaries"
   ]
  },
  {
   "cell_type": "code",
   "execution_count": 39,
   "id": "de2ca0e0",
   "metadata": {},
   "outputs": [],
   "source": [
    "boundary1 = np.log(1/0.05)  #A\n",
    "boundary2 = np.log(0.2)     #B"
   ]
  },
  {
   "cell_type": "code",
   "execution_count": 40,
   "id": "27f6a3d4",
   "metadata": {},
   "outputs": [
    {
     "name": "stdout",
     "output_type": "stream",
     "text": [
      "2.995732273553991\n"
     ]
    }
   ],
   "source": [
    "print(boundary1)"
   ]
  },
  {
   "cell_type": "code",
   "execution_count": 41,
   "id": "6d2c722d",
   "metadata": {},
   "outputs": [
    {
     "name": "stdout",
     "output_type": "stream",
     "text": [
      "-1.6094379124341003\n"
     ]
    }
   ],
   "source": [
    "print(boundary2)"
   ]
  },
  {
   "cell_type": "markdown",
   "id": "d2285289",
   "metadata": {},
   "source": [
    "## iterations for 10 samples"
   ]
  },
  {
   "cell_type": "code",
   "execution_count": 42,
   "id": "f716d78b",
   "metadata": {},
   "outputs": [
    {
     "name": "stdout",
     "output_type": "stream",
     "text": [
      "1 -> 3.0067250725812054 Accept alternative hypothesis\n",
      "2 -> 1.3724820536552997 continue test\n",
      "3 -> 3.153216269437385 Accept alternative hypothesis\n",
      "4 -> 2.9959757512565184 Accept alternative hypothesis\n",
      "5 -> 3.1179004817015086 Accept alternative hypothesis\n",
      "6 -> 0.6867641487585536 continue test\n",
      "7 -> -1.6216000517650493 Accept null hypothesis\n",
      "8 -> -1.618349790062373 Accept null hypothesis\n",
      "9 -> 3.024690965980013 Accept alternative hypothesis\n",
      "10 -> 2.0017957242900506 continue test\n",
      "[545, 1565, 995, 714, 560, 1565, 243, 270, 615, 1565]\n"
     ]
    }
   ],
   "source": [
    "iteration = []\n",
    "for m in range (1,11):\n",
    "    treatment_sample = df[df['Variant'] == 'B'].sample(n=sample_size_p(0.5, 0.2, 0.16, 0.15, 0.17), random_state=m)\n",
    "    current = 0\n",
    "    count = 0\n",
    "    control_sample = df[df['Variant'] == 'A']\n",
    "    ab_test = pd.concat([control_sample, treatment_sample], axis=0)\n",
    "    ab_test.reset_index(drop=True, inplace=True)\n",
    "    control_results = ab_test[ab_test['Variant'] == 'A']['purchase_TF']\n",
    "    treatment_results = ab_test[ab_test['Variant'] == 'B']['purchase_TF']\n",
    "    n_con = control_results.count()\n",
    "    n_treat = treatment_results.count()\n",
    "    success_A = control_results.sum() / n_con \n",
    "    success_B = treatment_results.sum() / n_treat\n",
    "    new = treatment_sample.reset_index()\n",
    "    X1 = np.log(success_B/success_A)\n",
    "    X0 = np.log((1-success_B)/(1-success_A))\n",
    "    for i in range(0,1566):\n",
    "        if boundary2 < current < boundary1:\n",
    "            if new['purchase_TF'][i] == 1:\n",
    "                current = current + X1\n",
    "            if new['purchase_TF'][i] == 0:\n",
    "                current = current + X0\n",
    "            count = i\n",
    "        else:\n",
    "            break  \n",
    "    iteration.append(count)\n",
    "    if current >= boundary1:\n",
    "        print(m, \"->\", current, \"Accept alternative hypothesis\")\n",
    "    elif current <= boundary2:\n",
    "        print(m, \"->\", current, \"Accept null hypothesis\")\n",
    "    else:\n",
    "        print(m, \"->\", current, \"continue test\")\n",
    "print(iteration)"
   ]
  },
  {
   "cell_type": "code",
   "execution_count": 43,
   "id": "fc5c8f22",
   "metadata": {},
   "outputs": [],
   "source": [
    "averageiteration = sum(iteration)/len(iteration)"
   ]
  },
  {
   "cell_type": "code",
   "execution_count": 44,
   "id": "2d0f23a5",
   "metadata": {},
   "outputs": [
    {
     "data": {
      "text/plain": [
       "863.7"
      ]
     },
     "execution_count": 44,
     "metadata": {},
     "output_type": "execute_result"
    }
   ],
   "source": [
    "averageiteration"
   ]
  },
  {
   "cell_type": "code",
   "execution_count": null,
   "id": "28ea32e3",
   "metadata": {},
   "outputs": [],
   "source": []
  }
 ],
 "metadata": {
  "kernelspec": {
   "display_name": "Python 3 (ipykernel)",
   "language": "python",
   "name": "python3"
  },
  "language_info": {
   "codemirror_mode": {
    "name": "ipython",
    "version": 3
   },
   "file_extension": ".py",
   "mimetype": "text/x-python",
   "name": "python",
   "nbconvert_exporter": "python",
   "pygments_lexer": "ipython3",
   "version": "3.9.12"
  }
 },
 "nbformat": 4,
 "nbformat_minor": 5
}
