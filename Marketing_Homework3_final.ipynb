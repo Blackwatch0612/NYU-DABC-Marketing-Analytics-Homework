{
 "cells": [
  {
   "cell_type": "code",
   "execution_count": 1,
   "id": "c0f8b0c7",
   "metadata": {},
   "outputs": [],
   "source": [
    "import numpy as np \n",
    "import pandas as pd "
   ]
  },
  {
   "cell_type": "code",
   "execution_count": 2,
   "id": "7c70b942",
   "metadata": {},
   "outputs": [],
   "source": [
    "df_attri = pd.read_csv('attribution_allocation_student_data.csv')\n",
    "df_chan = pd.read_csv('channel_spend_student_data.csv')"
   ]
  },
  {
   "cell_type": "code",
   "execution_count": 3,
   "id": "1e4d5514",
   "metadata": {},
   "outputs": [
    {
     "data": {
      "text/html": [
       "<div>\n",
       "<style scoped>\n",
       "    .dataframe tbody tr th:only-of-type {\n",
       "        vertical-align: middle;\n",
       "    }\n",
       "\n",
       "    .dataframe tbody tr th {\n",
       "        vertical-align: top;\n",
       "    }\n",
       "\n",
       "    .dataframe thead th {\n",
       "        text-align: right;\n",
       "    }\n",
       "</style>\n",
       "<table border=\"1\" class=\"dataframe\">\n",
       "  <thead>\n",
       "    <tr style=\"text-align: right;\">\n",
       "      <th></th>\n",
       "      <th>tier</th>\n",
       "    </tr>\n",
       "  </thead>\n",
       "  <tbody>\n",
       "    <tr>\n",
       "      <th>count</th>\n",
       "      <td>68124.000000</td>\n",
       "    </tr>\n",
       "    <tr>\n",
       "      <th>mean</th>\n",
       "      <td>2.333333</td>\n",
       "    </tr>\n",
       "    <tr>\n",
       "      <th>std</th>\n",
       "      <td>0.745361</td>\n",
       "    </tr>\n",
       "    <tr>\n",
       "      <th>min</th>\n",
       "      <td>1.000000</td>\n",
       "    </tr>\n",
       "    <tr>\n",
       "      <th>25%</th>\n",
       "      <td>2.000000</td>\n",
       "    </tr>\n",
       "    <tr>\n",
       "      <th>50%</th>\n",
       "      <td>2.500000</td>\n",
       "    </tr>\n",
       "    <tr>\n",
       "      <th>75%</th>\n",
       "      <td>3.000000</td>\n",
       "    </tr>\n",
       "    <tr>\n",
       "      <th>max</th>\n",
       "      <td>3.000000</td>\n",
       "    </tr>\n",
       "  </tbody>\n",
       "</table>\n",
       "</div>"
      ],
      "text/plain": [
       "               tier\n",
       "count  68124.000000\n",
       "mean       2.333333\n",
       "std        0.745361\n",
       "min        1.000000\n",
       "25%        2.000000\n",
       "50%        2.500000\n",
       "75%        3.000000\n",
       "max        3.000000"
      ]
     },
     "execution_count": 3,
     "metadata": {},
     "output_type": "execute_result"
    }
   ],
   "source": [
    "df_attri.describe()"
   ]
  },
  {
   "cell_type": "code",
   "execution_count": 4,
   "id": "1427f0fd",
   "metadata": {},
   "outputs": [
    {
     "data": {
      "text/html": [
       "<div>\n",
       "<style scoped>\n",
       "    .dataframe tbody tr th:only-of-type {\n",
       "        vertical-align: middle;\n",
       "    }\n",
       "\n",
       "    .dataframe tbody tr th {\n",
       "        vertical-align: top;\n",
       "    }\n",
       "\n",
       "    .dataframe thead th {\n",
       "        text-align: right;\n",
       "    }\n",
       "</style>\n",
       "<table border=\"1\" class=\"dataframe\">\n",
       "  <thead>\n",
       "    <tr style=\"text-align: right;\">\n",
       "      <th></th>\n",
       "      <th>convert_TF</th>\n",
       "      <th>touch1</th>\n",
       "      <th>touch2</th>\n",
       "      <th>touch3</th>\n",
       "      <th>touch4</th>\n",
       "      <th>touch5</th>\n",
       "      <th>tier</th>\n",
       "    </tr>\n",
       "  </thead>\n",
       "  <tbody>\n",
       "    <tr>\n",
       "      <th>0</th>\n",
       "      <td>True</td>\n",
       "      <td>referral</td>\n",
       "      <td>referral</td>\n",
       "      <td>referral</td>\n",
       "      <td>email</td>\n",
       "      <td>NaN</td>\n",
       "      <td>1</td>\n",
       "    </tr>\n",
       "    <tr>\n",
       "      <th>1</th>\n",
       "      <td>True</td>\n",
       "      <td>referral</td>\n",
       "      <td>display</td>\n",
       "      <td>display</td>\n",
       "      <td>email</td>\n",
       "      <td>NaN</td>\n",
       "      <td>1</td>\n",
       "    </tr>\n",
       "    <tr>\n",
       "      <th>2</th>\n",
       "      <td>True</td>\n",
       "      <td>email</td>\n",
       "      <td>display</td>\n",
       "      <td>referral</td>\n",
       "      <td>NaN</td>\n",
       "      <td>NaN</td>\n",
       "      <td>1</td>\n",
       "    </tr>\n",
       "    <tr>\n",
       "      <th>3</th>\n",
       "      <td>True</td>\n",
       "      <td>referral</td>\n",
       "      <td>referral</td>\n",
       "      <td>email</td>\n",
       "      <td>NaN</td>\n",
       "      <td>NaN</td>\n",
       "      <td>1</td>\n",
       "    </tr>\n",
       "    <tr>\n",
       "      <th>4</th>\n",
       "      <td>True</td>\n",
       "      <td>social</td>\n",
       "      <td>referral</td>\n",
       "      <td>NaN</td>\n",
       "      <td>NaN</td>\n",
       "      <td>NaN</td>\n",
       "      <td>1</td>\n",
       "    </tr>\n",
       "  </tbody>\n",
       "</table>\n",
       "</div>"
      ],
      "text/plain": [
       "   convert_TF    touch1    touch2    touch3 touch4 touch5  tier\n",
       "0        True  referral  referral  referral  email    NaN     1\n",
       "1        True  referral   display   display  email    NaN     1\n",
       "2        True     email   display  referral    NaN    NaN     1\n",
       "3        True  referral  referral     email    NaN    NaN     1\n",
       "4        True    social  referral       NaN    NaN    NaN     1"
      ]
     },
     "execution_count": 4,
     "metadata": {},
     "output_type": "execute_result"
    }
   ],
   "source": [
    "df_attri.head()"
   ]
  },
  {
   "cell_type": "code",
   "execution_count": 5,
   "id": "3d02b107",
   "metadata": {},
   "outputs": [
    {
     "data": {
      "text/plain": [
       "str"
      ]
     },
     "execution_count": 5,
     "metadata": {},
     "output_type": "execute_result"
    }
   ],
   "source": [
    "type(df_chan['0'][0])"
   ]
  },
  {
   "cell_type": "code",
   "execution_count": 6,
   "id": "af1f09d3",
   "metadata": {},
   "outputs": [],
   "source": [
    "s = {}\n",
    "for i in range(len(df_chan)):\n",
    "    s[\"spend_{}\".format(i + 1)] = eval(df_chan['0'][i])\n",
    "    #s[\"spend_{}\".format(i + 1)] = pd.DataFrame.from_dict(dic, orient='index', columns=['Spend'])"
   ]
  },
  {
   "cell_type": "code",
   "execution_count": 7,
   "id": "109976f7",
   "metadata": {},
   "outputs": [
    {
     "data": {
      "text/plain": [
       "{'email': 1000.0,\n",
       " 'social': 1000.0000000000001,\n",
       " 'display': 1000.0,\n",
       " 'paid_search': 999.9999999999999,\n",
       " 'referral': 1000.0,\n",
       " 'organic_search': 0.0,\n",
       " 'direct': 0.0}"
      ]
     },
     "execution_count": 7,
     "metadata": {},
     "output_type": "execute_result"
    }
   ],
   "source": [
    "s[\"spend_1\"]"
   ]
  },
  {
   "cell_type": "markdown",
   "id": "0d1bed6b",
   "metadata": {},
   "source": [
    "# First Interaction Model"
   ]
  },
  {
   "cell_type": "code",
   "execution_count": 10,
   "id": "2f033a19",
   "metadata": {},
   "outputs": [],
   "source": [
    "df_attri_T = df_attri[df_attri['convert_TF']== True]"
   ]
  },
  {
   "cell_type": "code",
   "execution_count": 11,
   "id": "d5b7c649",
   "metadata": {},
   "outputs": [],
   "source": [
    "df_attri_T = df_attri_T.reset_index()"
   ]
  },
  {
   "cell_type": "code",
   "execution_count": 12,
   "id": "82add479",
   "metadata": {},
   "outputs": [
    {
     "data": {
      "text/html": [
       "<div>\n",
       "<style scoped>\n",
       "    .dataframe tbody tr th:only-of-type {\n",
       "        vertical-align: middle;\n",
       "    }\n",
       "\n",
       "    .dataframe tbody tr th {\n",
       "        vertical-align: top;\n",
       "    }\n",
       "\n",
       "    .dataframe thead th {\n",
       "        text-align: right;\n",
       "    }\n",
       "</style>\n",
       "<table border=\"1\" class=\"dataframe\">\n",
       "  <thead>\n",
       "    <tr style=\"text-align: right;\">\n",
       "      <th></th>\n",
       "      <th>index</th>\n",
       "      <th>tier</th>\n",
       "    </tr>\n",
       "  </thead>\n",
       "  <tbody>\n",
       "    <tr>\n",
       "      <th>count</th>\n",
       "      <td>13779.000000</td>\n",
       "      <td>13779.000000</td>\n",
       "    </tr>\n",
       "    <tr>\n",
       "      <th>mean</th>\n",
       "      <td>26608.898541</td>\n",
       "      <td>2.235068</td>\n",
       "    </tr>\n",
       "    <tr>\n",
       "      <th>std</th>\n",
       "      <td>18268.800880</td>\n",
       "      <td>0.767954</td>\n",
       "    </tr>\n",
       "    <tr>\n",
       "      <th>min</th>\n",
       "      <td>0.000000</td>\n",
       "      <td>1.000000</td>\n",
       "    </tr>\n",
       "    <tr>\n",
       "      <th>25%</th>\n",
       "      <td>12388.500000</td>\n",
       "      <td>2.000000</td>\n",
       "    </tr>\n",
       "    <tr>\n",
       "      <th>50%</th>\n",
       "      <td>26056.000000</td>\n",
       "      <td>2.000000</td>\n",
       "    </tr>\n",
       "    <tr>\n",
       "      <th>75%</th>\n",
       "      <td>38164.500000</td>\n",
       "      <td>3.000000</td>\n",
       "    </tr>\n",
       "    <tr>\n",
       "      <th>max</th>\n",
       "      <td>68117.000000</td>\n",
       "      <td>3.000000</td>\n",
       "    </tr>\n",
       "  </tbody>\n",
       "</table>\n",
       "</div>"
      ],
      "text/plain": [
       "              index          tier\n",
       "count  13779.000000  13779.000000\n",
       "mean   26608.898541      2.235068\n",
       "std    18268.800880      0.767954\n",
       "min        0.000000      1.000000\n",
       "25%    12388.500000      2.000000\n",
       "50%    26056.000000      2.000000\n",
       "75%    38164.500000      3.000000\n",
       "max    68117.000000      3.000000"
      ]
     },
     "execution_count": 12,
     "metadata": {},
     "output_type": "execute_result"
    }
   ],
   "source": [
    "df_attri_T.describe()"
   ]
  },
  {
   "cell_type": "code",
   "execution_count": 13,
   "id": "8869d161",
   "metadata": {},
   "outputs": [
    {
     "data": {
      "text/html": [
       "<div>\n",
       "<style scoped>\n",
       "    .dataframe tbody tr th:only-of-type {\n",
       "        vertical-align: middle;\n",
       "    }\n",
       "\n",
       "    .dataframe tbody tr th {\n",
       "        vertical-align: top;\n",
       "    }\n",
       "\n",
       "    .dataframe thead th {\n",
       "        text-align: right;\n",
       "    }\n",
       "</style>\n",
       "<table border=\"1\" class=\"dataframe\">\n",
       "  <thead>\n",
       "    <tr style=\"text-align: right;\">\n",
       "      <th></th>\n",
       "      <th>touch1</th>\n",
       "    </tr>\n",
       "    <tr>\n",
       "      <th>channel</th>\n",
       "      <th></th>\n",
       "    </tr>\n",
       "  </thead>\n",
       "  <tbody>\n",
       "    <tr>\n",
       "      <th>referral</th>\n",
       "      <td>7495</td>\n",
       "    </tr>\n",
       "    <tr>\n",
       "      <th>social</th>\n",
       "      <td>2280</td>\n",
       "    </tr>\n",
       "    <tr>\n",
       "      <th>display</th>\n",
       "      <td>2031</td>\n",
       "    </tr>\n",
       "    <tr>\n",
       "      <th>email</th>\n",
       "      <td>1284</td>\n",
       "    </tr>\n",
       "    <tr>\n",
       "      <th>paid_search</th>\n",
       "      <td>668</td>\n",
       "    </tr>\n",
       "    <tr>\n",
       "      <th>organic_search</th>\n",
       "      <td>15</td>\n",
       "    </tr>\n",
       "    <tr>\n",
       "      <th>direct</th>\n",
       "      <td>6</td>\n",
       "    </tr>\n",
       "  </tbody>\n",
       "</table>\n",
       "</div>"
      ],
      "text/plain": [
       "                touch1\n",
       "channel               \n",
       "referral          7495\n",
       "social            2280\n",
       "display           2031\n",
       "email             1284\n",
       "paid_search        668\n",
       "organic_search      15\n",
       "direct               6"
      ]
     },
     "execution_count": 13,
     "metadata": {},
     "output_type": "execute_result"
    }
   ],
   "source": [
    "result1 = df_attri_T['touch1'].value_counts().rename_axis('channel')\n",
    "result1 = pd.DataFrame(result1)\n",
    "result1"
   ]
  },
  {
   "cell_type": "code",
   "execution_count": 14,
   "id": "51a44f4d",
   "metadata": {},
   "outputs": [
    {
     "data": {
      "text/plain": [
       "pandas.core.frame.DataFrame"
      ]
     },
     "execution_count": 14,
     "metadata": {},
     "output_type": "execute_result"
    }
   ],
   "source": [
    "type(result1)"
   ]
  },
  {
   "cell_type": "code",
   "execution_count": 15,
   "id": "ec36aa0f",
   "metadata": {},
   "outputs": [],
   "source": [
    "#df_attri_T.groupby(['tier','touch1']).count()"
   ]
  },
  {
   "cell_type": "markdown",
   "id": "a72a44c2",
   "metadata": {},
   "source": [
    "# CAC for each channel"
   ]
  },
  {
   "cell_type": "code",
   "execution_count": 16,
   "id": "14c68833",
   "metadata": {},
   "outputs": [
    {
     "data": {
      "text/plain": [
       "{'CAC_referral': 0.800533689126084,\n",
       " 'CAC_social': 2.6315789473684212,\n",
       " 'CAC_display': 2.9542097488921715,\n",
       " 'CAC_email': 4.672897196261682,\n",
       " 'CAC_paid_search': 8.982035928143713,\n",
       " 'CAC_organic_search': 0.0,\n",
       " 'CAC_direct': 0.0}"
      ]
     },
     "execution_count": 16,
     "metadata": {},
     "output_type": "execute_result"
    }
   ],
   "source": [
    "CAC_FI={}\n",
    "for i in result1.index:\n",
    "    CAC_FI[\"CAC_{}\".format(i)]=float((s[\"spend_1\"][i]+s[\"spend_2\"][i]+s[\"spend_3\"][i])\n",
    "                                  /result1.loc[i,'touch1'])\n",
    "CAC_FI"
   ]
  },
  {
   "cell_type": "markdown",
   "id": "bcce685b",
   "metadata": {},
   "source": [
    "# Linear Model"
   ]
  },
  {
   "cell_type": "code",
   "execution_count": 17,
   "id": "890531c8",
   "metadata": {},
   "outputs": [],
   "source": [
    "#df_attri_T.groupby()"
   ]
  },
  {
   "cell_type": "code",
   "execution_count": 18,
   "id": "83a290ba",
   "metadata": {},
   "outputs": [],
   "source": [
    "#temp = df_attri_T['touch1'].value_counts()\n",
    "#temp = pd.DataFrame(temp)"
   ]
  },
  {
   "cell_type": "code",
   "execution_count": 19,
   "id": "dc9fff8d",
   "metadata": {},
   "outputs": [],
   "source": [
    "#temp"
   ]
  },
  {
   "cell_type": "code",
   "execution_count": 20,
   "id": "2775949d",
   "metadata": {},
   "outputs": [],
   "source": [
    "#temp2 = df_attri_T['touch2'].value_counts()\n",
    "#temp2 = pd.DataFrame(temp2)"
   ]
  },
  {
   "cell_type": "code",
   "execution_count": 21,
   "id": "2a0d67a5",
   "metadata": {},
   "outputs": [],
   "source": [
    "#temp2"
   ]
  },
  {
   "cell_type": "code",
   "execution_count": 22,
   "id": "c046e1f9",
   "metadata": {},
   "outputs": [],
   "source": [
    "#for i in np.arange(2,6):\n",
    "#    temp1 = df_attri_T.iloc[:,i].value_counts()\n",
    "#    temp1 = pd.DataFrame(temp1)\n",
    "#    temp = temp.join(temp1)\n",
    "#print(temp)"
   ]
  },
  {
   "cell_type": "code",
   "execution_count": 23,
   "id": "dc3aa7ae",
   "metadata": {},
   "outputs": [],
   "source": [
    "#type(temp)"
   ]
  },
  {
   "cell_type": "code",
   "execution_count": 24,
   "id": "1aa3419d",
   "metadata": {},
   "outputs": [],
   "source": [
    "num_null = df_attri_T.isnull().sum(axis=1)"
   ]
  },
  {
   "cell_type": "code",
   "execution_count": 25,
   "id": "c30db459",
   "metadata": {},
   "outputs": [
    {
     "data": {
      "text/html": [
       "<div>\n",
       "<style scoped>\n",
       "    .dataframe tbody tr th:only-of-type {\n",
       "        vertical-align: middle;\n",
       "    }\n",
       "\n",
       "    .dataframe tbody tr th {\n",
       "        vertical-align: top;\n",
       "    }\n",
       "\n",
       "    .dataframe thead th {\n",
       "        text-align: right;\n",
       "    }\n",
       "</style>\n",
       "<table border=\"1\" class=\"dataframe\">\n",
       "  <thead>\n",
       "    <tr style=\"text-align: right;\">\n",
       "      <th></th>\n",
       "      <th>referral</th>\n",
       "      <th>social</th>\n",
       "      <th>display</th>\n",
       "      <th>email</th>\n",
       "      <th>paid_search</th>\n",
       "      <th>organic_search</th>\n",
       "      <th>direct</th>\n",
       "    </tr>\n",
       "  </thead>\n",
       "  <tbody>\n",
       "    <tr>\n",
       "      <th>0</th>\n",
       "      <td>0</td>\n",
       "      <td>0</td>\n",
       "      <td>0</td>\n",
       "      <td>0</td>\n",
       "      <td>0</td>\n",
       "      <td>0</td>\n",
       "      <td>0</td>\n",
       "    </tr>\n",
       "  </tbody>\n",
       "</table>\n",
       "</div>"
      ],
      "text/plain": [
       "   referral  social  display  email  paid_search  organic_search  direct\n",
       "0         0       0        0      0            0               0       0"
      ]
     },
     "execution_count": 25,
     "metadata": {},
     "output_type": "execute_result"
    }
   ],
   "source": [
    "linear = pd.DataFrame({'referral':[0],'social':[0], 'display':[0], \n",
    "                       'email':[0], 'paid_search':[0],'organic_search':[0],'direct':[0]})\n",
    "linear"
   ]
  },
  {
   "cell_type": "code",
   "execution_count": 26,
   "id": "57d09c9b",
   "metadata": {},
   "outputs": [],
   "source": [
    "#df_attri_T.head(10)"
   ]
  },
  {
   "cell_type": "code",
   "execution_count": 27,
   "id": "2df30b79",
   "metadata": {},
   "outputs": [],
   "source": [
    "for i in np.arange(len(df_attri_T)):\n",
    "    j=1\n",
    "    credit = 1/(5-num_null[i])\n",
    "    while j<(6-num_null[i]):\n",
    "        linear.loc[:,df_attri_T.iloc[i,1+j]]+= credit\n",
    "        j += 1    "
   ]
  },
  {
   "cell_type": "code",
   "execution_count": 28,
   "id": "4038afd5",
   "metadata": {},
   "outputs": [],
   "source": [
    "#df_attri_T.iloc[:,7]"
   ]
  },
  {
   "cell_type": "code",
   "execution_count": 29,
   "id": "e719e39c",
   "metadata": {},
   "outputs": [
    {
     "data": {
      "text/plain": [
       "13778.999999998588"
      ]
     },
     "execution_count": 29,
     "metadata": {},
     "output_type": "execute_result"
    }
   ],
   "source": [
    "linear.sum().sum()"
   ]
  },
  {
   "cell_type": "code",
   "execution_count": 30,
   "id": "01e83fe6",
   "metadata": {},
   "outputs": [
    {
     "data": {
      "text/plain": [
       "pandas.core.frame.DataFrame"
      ]
     },
     "execution_count": 30,
     "metadata": {},
     "output_type": "execute_result"
    }
   ],
   "source": [
    "type(linear)"
   ]
  },
  {
   "cell_type": "code",
   "execution_count": 31,
   "id": "67af90cf",
   "metadata": {},
   "outputs": [
    {
     "data": {
      "text/plain": [
       "13779"
      ]
     },
     "execution_count": 31,
     "metadata": {},
     "output_type": "execute_result"
    }
   ],
   "source": [
    "len(df_attri_T)"
   ]
  },
  {
   "cell_type": "code",
   "execution_count": 32,
   "id": "d2a3f819",
   "metadata": {},
   "outputs": [
    {
     "data": {
      "text/html": [
       "<div>\n",
       "<style scoped>\n",
       "    .dataframe tbody tr th:only-of-type {\n",
       "        vertical-align: middle;\n",
       "    }\n",
       "\n",
       "    .dataframe tbody tr th {\n",
       "        vertical-align: top;\n",
       "    }\n",
       "\n",
       "    .dataframe thead th {\n",
       "        text-align: right;\n",
       "    }\n",
       "</style>\n",
       "<table border=\"1\" class=\"dataframe\">\n",
       "  <thead>\n",
       "    <tr style=\"text-align: right;\">\n",
       "      <th></th>\n",
       "      <th>referral</th>\n",
       "      <th>social</th>\n",
       "      <th>display</th>\n",
       "      <th>email</th>\n",
       "      <th>paid_search</th>\n",
       "      <th>organic_search</th>\n",
       "      <th>direct</th>\n",
       "    </tr>\n",
       "  </thead>\n",
       "  <tbody>\n",
       "    <tr>\n",
       "      <th>0</th>\n",
       "      <td>7463.833333</td>\n",
       "      <td>2302.183333</td>\n",
       "      <td>2009.466667</td>\n",
       "      <td>1275.1</td>\n",
       "      <td>704.866667</td>\n",
       "      <td>16.15</td>\n",
       "      <td>7.4</td>\n",
       "    </tr>\n",
       "  </tbody>\n",
       "</table>\n",
       "</div>"
      ],
      "text/plain": [
       "      referral       social      display   email  paid_search  organic_search  \\\n",
       "0  7463.833333  2302.183333  2009.466667  1275.1   704.866667           16.15   \n",
       "\n",
       "   direct  \n",
       "0     7.4  "
      ]
     },
     "execution_count": 32,
     "metadata": {},
     "output_type": "execute_result"
    }
   ],
   "source": [
    "linear"
   ]
  },
  {
   "cell_type": "markdown",
   "id": "7f7d61b5",
   "metadata": {},
   "source": [
    "# CAC for each channel"
   ]
  },
  {
   "cell_type": "code",
   "execution_count": 33,
   "id": "80e5ea25",
   "metadata": {},
   "outputs": [
    {
     "data": {
      "text/plain": [
       "{'CAC_referral': 0.8038764709824394,\n",
       " 'CAC_social': 2.6062216301916488,\n",
       " 'CAC_display': 2.9858668966890645,\n",
       " 'CAC_email': 4.705513293075028,\n",
       " 'CAC_paid_search': 8.512248179324631,\n",
       " 'CAC_organic_search': 0.0,\n",
       " 'CAC_direct': 0.0}"
      ]
     },
     "execution_count": 33,
     "metadata": {},
     "output_type": "execute_result"
    }
   ],
   "source": [
    "CAC_linear={}\n",
    "list_linear = list(linear.columns.values)\n",
    "for i in np.arange(len(list_linear)):\n",
    "    CAC_linear[\"CAC_{}\".format(list_linear[i])]=float((s[\"spend_1\"][list_linear[i]]+s[\"spend_2\"][list_linear[i]]+s[\"spend_3\"][list_linear[i]])\n",
    "                                  /linear.loc[0,list_linear[i]])\n",
    "CAC_linear"
   ]
  },
  {
   "cell_type": "markdown",
   "id": "1e61d4cb",
   "metadata": {},
   "source": [
    "# Last interaction Model"
   ]
  },
  {
   "cell_type": "code",
   "execution_count": 34,
   "id": "7308ad29",
   "metadata": {},
   "outputs": [
    {
     "name": "stdout",
     "output_type": "stream",
     "text": [
      "0              email\n",
      "1              email\n",
      "2           referral\n",
      "3              email\n",
      "4           referral\n",
      "            ...     \n",
      "13774       referral\n",
      "13775       referral\n",
      "13776    paid_search\n",
      "13777        display\n",
      "13778         direct\n",
      "Name: touch5, Length: 13779, dtype: object\n"
     ]
    }
   ],
   "source": [
    "out1 = df_attri_T.replace('', np.NaN).ffill(axis=1).iloc[:, -2]\n",
    "print(out1)"
   ]
  },
  {
   "cell_type": "code",
   "execution_count": 35,
   "id": "e5616639",
   "metadata": {},
   "outputs": [
    {
     "data": {
      "text/plain": [
       "referral          6014\n",
       "social            2960\n",
       "display           2292\n",
       "email             1491\n",
       "paid_search       1004\n",
       "organic_search      11\n",
       "direct               7\n",
       "Name: touch5, dtype: int64"
      ]
     },
     "execution_count": 35,
     "metadata": {},
     "output_type": "execute_result"
    }
   ],
   "source": [
    "out1.value_counts()"
   ]
  },
  {
   "cell_type": "code",
   "execution_count": 36,
   "id": "74cbb752",
   "metadata": {},
   "outputs": [
    {
     "data": {
      "text/html": [
       "<div>\n",
       "<style scoped>\n",
       "    .dataframe tbody tr th:only-of-type {\n",
       "        vertical-align: middle;\n",
       "    }\n",
       "\n",
       "    .dataframe tbody tr th {\n",
       "        vertical-align: top;\n",
       "    }\n",
       "\n",
       "    .dataframe thead th {\n",
       "        text-align: right;\n",
       "    }\n",
       "</style>\n",
       "<table border=\"1\" class=\"dataframe\">\n",
       "  <thead>\n",
       "    <tr style=\"text-align: right;\">\n",
       "      <th></th>\n",
       "      <th>touch5</th>\n",
       "    </tr>\n",
       "    <tr>\n",
       "      <th>channel</th>\n",
       "      <th></th>\n",
       "    </tr>\n",
       "  </thead>\n",
       "  <tbody>\n",
       "    <tr>\n",
       "      <th>referral</th>\n",
       "      <td>6014</td>\n",
       "    </tr>\n",
       "    <tr>\n",
       "      <th>social</th>\n",
       "      <td>2960</td>\n",
       "    </tr>\n",
       "    <tr>\n",
       "      <th>display</th>\n",
       "      <td>2292</td>\n",
       "    </tr>\n",
       "    <tr>\n",
       "      <th>email</th>\n",
       "      <td>1491</td>\n",
       "    </tr>\n",
       "    <tr>\n",
       "      <th>paid_search</th>\n",
       "      <td>1004</td>\n",
       "    </tr>\n",
       "    <tr>\n",
       "      <th>organic_search</th>\n",
       "      <td>11</td>\n",
       "    </tr>\n",
       "    <tr>\n",
       "      <th>direct</th>\n",
       "      <td>7</td>\n",
       "    </tr>\n",
       "  </tbody>\n",
       "</table>\n",
       "</div>"
      ],
      "text/plain": [
       "                touch5\n",
       "channel               \n",
       "referral          6014\n",
       "social            2960\n",
       "display           2292\n",
       "email             1491\n",
       "paid_search       1004\n",
       "organic_search      11\n",
       "direct               7"
      ]
     },
     "execution_count": 36,
     "metadata": {},
     "output_type": "execute_result"
    }
   ],
   "source": [
    "result3 = out1.value_counts().rename_axis('channel')\n",
    "result3 = pd.DataFrame(result3)\n",
    "result3"
   ]
  },
  {
   "cell_type": "markdown",
   "id": "d623178c",
   "metadata": {},
   "source": [
    "# CAC for each channel"
   ]
  },
  {
   "cell_type": "code",
   "execution_count": 37,
   "id": "d88456b1",
   "metadata": {},
   "outputs": [
    {
     "data": {
      "text/plain": [
       "{'CAC_referral': 0.9976720984369803,\n",
       " 'CAC_social': 2.027027027027027,\n",
       " 'CAC_display': 2.6178010471204187,\n",
       " 'CAC_email': 4.0241448692152915,\n",
       " 'CAC_paid_search': 5.9760956175298805,\n",
       " 'CAC_organic_search': 0.0,\n",
       " 'CAC_direct': 0.0}"
      ]
     },
     "execution_count": 37,
     "metadata": {},
     "output_type": "execute_result"
    }
   ],
   "source": [
    "CAC_LI={}\n",
    "for i in result3.index:\n",
    "    CAC_LI[\"CAC_{}\".format(i)]=float((s[\"spend_1\"][i]+s[\"spend_2\"][i]+s[\"spend_3\"][i])\n",
    "                                  /result3.loc[i,'touch5'])\n",
    "CAC_LI"
   ]
  }
 ],
 "metadata": {
  "kernelspec": {
   "display_name": "Python 3 (ipykernel)",
   "language": "python",
   "name": "python3"
  },
  "language_info": {
   "codemirror_mode": {
    "name": "ipython",
    "version": 3
   },
   "file_extension": ".py",
   "mimetype": "text/x-python",
   "name": "python",
   "nbconvert_exporter": "python",
   "pygments_lexer": "ipython3",
   "version": "3.9.12"
  }
 },
 "nbformat": 4,
 "nbformat_minor": 5
}
